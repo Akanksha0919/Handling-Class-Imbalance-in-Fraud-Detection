{
  "cells": [
    {
      "cell_type": "code",
      "execution_count": null,
      "metadata": {
        "colab": {
          "base_uri": "https://localhost:8080/"
        },
        "id": "UX5hRPMV8ijZ",
        "outputId": "2e28a4b6-9d7c-4717-fdc1-dc2c19202375"
      },
      "outputs": [
        {
          "output_type": "stream",
          "name": "stdout",
          "text": [
            "/content\n"
          ]
        }
      ],
      "source": [
        "import pandas as pd \n",
        "import numpy as np \n",
        "import seaborn as sns\n",
        "import matplotlib.pyplot as plt\n",
        "import sklearn\n",
        "from sklearn import tree\n",
        "from sklearn.model_selection import train_test_split\n",
        "from sklearn import metrics\n",
        "\n",
        "import os  # operating system interface \n",
        "\n",
        "print(os.getcwd())"
      ]
    },
    {
      "cell_type": "markdown",
      "metadata": {
        "id": "Js5ER1RzAzO4"
      },
      "source": [
        "# Eyeballing Data"
      ]
    },
    {
      "cell_type": "code",
      "execution_count": null,
      "metadata": {
        "colab": {
          "base_uri": "https://localhost:8080/"
        },
        "id": "Vud-LEVk8rx8",
        "outputId": "a2d7d300-5d72-44ec-e30f-7085fbc959aa"
      },
      "outputs": [
        {
          "output_type": "stream",
          "name": "stdout",
          "text": [
            "Mounted at /content/drive\n"
          ]
        }
      ],
      "source": [
        "#read data\n",
        "from google.colab import drive\n",
        "drive.mount('/content/drive')\n"
      ]
    },
    {
      "cell_type": "code",
      "execution_count": null,
      "metadata": {
        "id": "UFQhe_ebqBcG"
      },
      "outputs": [],
      "source": [
        "file = 'drive/MyDrive/Fraud.csv'\n",
        "df = pd.read_csv(file)"
      ]
    },
    {
      "cell_type": "code",
      "execution_count": null,
      "metadata": {
        "colab": {
          "base_uri": "https://localhost:8080/",
          "height": 238
        },
        "id": "XnNj9zQyAfH5",
        "outputId": "a0145e06-3c6b-4ea3-f23c-ea9ba4b26b58"
      },
      "outputs": [
        {
          "output_type": "execute_result",
          "data": {
            "text/html": [
              "\n",
              "  <div id=\"df-2808893f-b3b3-4af0-983c-f697a4ab4741\">\n",
              "    <div class=\"colab-df-container\">\n",
              "      <div>\n",
              "<style scoped>\n",
              "    .dataframe tbody tr th:only-of-type {\n",
              "        vertical-align: middle;\n",
              "    }\n",
              "\n",
              "    .dataframe tbody tr th {\n",
              "        vertical-align: top;\n",
              "    }\n",
              "\n",
              "    .dataframe thead th {\n",
              "        text-align: right;\n",
              "    }\n",
              "</style>\n",
              "<table border=\"1\" class=\"dataframe\">\n",
              "  <thead>\n",
              "    <tr style=\"text-align: right;\">\n",
              "      <th></th>\n",
              "      <th>step</th>\n",
              "      <th>type</th>\n",
              "      <th>amount</th>\n",
              "      <th>nameOrig</th>\n",
              "      <th>oldbalanceOrg</th>\n",
              "      <th>newbalanceOrig</th>\n",
              "      <th>nameDest</th>\n",
              "      <th>oldbalanceDest</th>\n",
              "      <th>newbalanceDest</th>\n",
              "      <th>isFraud</th>\n",
              "      <th>isFlaggedFraud</th>\n",
              "    </tr>\n",
              "  </thead>\n",
              "  <tbody>\n",
              "    <tr>\n",
              "      <th>0</th>\n",
              "      <td>1</td>\n",
              "      <td>PAYMENT</td>\n",
              "      <td>9839.64</td>\n",
              "      <td>C1231006815</td>\n",
              "      <td>170136.0</td>\n",
              "      <td>160296.36</td>\n",
              "      <td>M1979787155</td>\n",
              "      <td>0.0</td>\n",
              "      <td>0.0</td>\n",
              "      <td>0</td>\n",
              "      <td>0</td>\n",
              "    </tr>\n",
              "    <tr>\n",
              "      <th>1</th>\n",
              "      <td>1</td>\n",
              "      <td>PAYMENT</td>\n",
              "      <td>1864.28</td>\n",
              "      <td>C1666544295</td>\n",
              "      <td>21249.0</td>\n",
              "      <td>19384.72</td>\n",
              "      <td>M2044282225</td>\n",
              "      <td>0.0</td>\n",
              "      <td>0.0</td>\n",
              "      <td>0</td>\n",
              "      <td>0</td>\n",
              "    </tr>\n",
              "    <tr>\n",
              "      <th>2</th>\n",
              "      <td>1</td>\n",
              "      <td>TRANSFER</td>\n",
              "      <td>181.00</td>\n",
              "      <td>C1305486145</td>\n",
              "      <td>181.0</td>\n",
              "      <td>0.00</td>\n",
              "      <td>C553264065</td>\n",
              "      <td>0.0</td>\n",
              "      <td>0.0</td>\n",
              "      <td>1</td>\n",
              "      <td>0</td>\n",
              "    </tr>\n",
              "    <tr>\n",
              "      <th>3</th>\n",
              "      <td>1</td>\n",
              "      <td>CASH_OUT</td>\n",
              "      <td>181.00</td>\n",
              "      <td>C840083671</td>\n",
              "      <td>181.0</td>\n",
              "      <td>0.00</td>\n",
              "      <td>C38997010</td>\n",
              "      <td>21182.0</td>\n",
              "      <td>0.0</td>\n",
              "      <td>1</td>\n",
              "      <td>0</td>\n",
              "    </tr>\n",
              "    <tr>\n",
              "      <th>4</th>\n",
              "      <td>1</td>\n",
              "      <td>PAYMENT</td>\n",
              "      <td>11668.14</td>\n",
              "      <td>C2048537720</td>\n",
              "      <td>41554.0</td>\n",
              "      <td>29885.86</td>\n",
              "      <td>M1230701703</td>\n",
              "      <td>0.0</td>\n",
              "      <td>0.0</td>\n",
              "      <td>0</td>\n",
              "      <td>0</td>\n",
              "    </tr>\n",
              "    <tr>\n",
              "      <th>5</th>\n",
              "      <td>1</td>\n",
              "      <td>PAYMENT</td>\n",
              "      <td>7817.71</td>\n",
              "      <td>C90045638</td>\n",
              "      <td>53860.0</td>\n",
              "      <td>46042.29</td>\n",
              "      <td>M573487274</td>\n",
              "      <td>0.0</td>\n",
              "      <td>0.0</td>\n",
              "      <td>0</td>\n",
              "      <td>0</td>\n",
              "    </tr>\n",
              "  </tbody>\n",
              "</table>\n",
              "</div>\n",
              "      <button class=\"colab-df-convert\" onclick=\"convertToInteractive('df-2808893f-b3b3-4af0-983c-f697a4ab4741')\"\n",
              "              title=\"Convert this dataframe to an interactive table.\"\n",
              "              style=\"display:none;\">\n",
              "        \n",
              "  <svg xmlns=\"http://www.w3.org/2000/svg\" height=\"24px\"viewBox=\"0 0 24 24\"\n",
              "       width=\"24px\">\n",
              "    <path d=\"M0 0h24v24H0V0z\" fill=\"none\"/>\n",
              "    <path d=\"M18.56 5.44l.94 2.06.94-2.06 2.06-.94-2.06-.94-.94-2.06-.94 2.06-2.06.94zm-11 1L8.5 8.5l.94-2.06 2.06-.94-2.06-.94L8.5 2.5l-.94 2.06-2.06.94zm10 10l.94 2.06.94-2.06 2.06-.94-2.06-.94-.94-2.06-.94 2.06-2.06.94z\"/><path d=\"M17.41 7.96l-1.37-1.37c-.4-.4-.92-.59-1.43-.59-.52 0-1.04.2-1.43.59L10.3 9.45l-7.72 7.72c-.78.78-.78 2.05 0 2.83L4 21.41c.39.39.9.59 1.41.59.51 0 1.02-.2 1.41-.59l7.78-7.78 2.81-2.81c.8-.78.8-2.07 0-2.86zM5.41 20L4 18.59l7.72-7.72 1.47 1.35L5.41 20z\"/>\n",
              "  </svg>\n",
              "      </button>\n",
              "      \n",
              "  <style>\n",
              "    .colab-df-container {\n",
              "      display:flex;\n",
              "      flex-wrap:wrap;\n",
              "      gap: 12px;\n",
              "    }\n",
              "\n",
              "    .colab-df-convert {\n",
              "      background-color: #E8F0FE;\n",
              "      border: none;\n",
              "      border-radius: 50%;\n",
              "      cursor: pointer;\n",
              "      display: none;\n",
              "      fill: #1967D2;\n",
              "      height: 32px;\n",
              "      padding: 0 0 0 0;\n",
              "      width: 32px;\n",
              "    }\n",
              "\n",
              "    .colab-df-convert:hover {\n",
              "      background-color: #E2EBFA;\n",
              "      box-shadow: 0px 1px 2px rgba(60, 64, 67, 0.3), 0px 1px 3px 1px rgba(60, 64, 67, 0.15);\n",
              "      fill: #174EA6;\n",
              "    }\n",
              "\n",
              "    [theme=dark] .colab-df-convert {\n",
              "      background-color: #3B4455;\n",
              "      fill: #D2E3FC;\n",
              "    }\n",
              "\n",
              "    [theme=dark] .colab-df-convert:hover {\n",
              "      background-color: #434B5C;\n",
              "      box-shadow: 0px 1px 3px 1px rgba(0, 0, 0, 0.15);\n",
              "      filter: drop-shadow(0px 1px 2px rgba(0, 0, 0, 0.3));\n",
              "      fill: #FFFFFF;\n",
              "    }\n",
              "  </style>\n",
              "\n",
              "      <script>\n",
              "        const buttonEl =\n",
              "          document.querySelector('#df-2808893f-b3b3-4af0-983c-f697a4ab4741 button.colab-df-convert');\n",
              "        buttonEl.style.display =\n",
              "          google.colab.kernel.accessAllowed ? 'block' : 'none';\n",
              "\n",
              "        async function convertToInteractive(key) {\n",
              "          const element = document.querySelector('#df-2808893f-b3b3-4af0-983c-f697a4ab4741');\n",
              "          const dataTable =\n",
              "            await google.colab.kernel.invokeFunction('convertToInteractive',\n",
              "                                                     [key], {});\n",
              "          if (!dataTable) return;\n",
              "\n",
              "          const docLinkHtml = 'Like what you see? Visit the ' +\n",
              "            '<a target=\"_blank\" href=https://colab.research.google.com/notebooks/data_table.ipynb>data table notebook</a>'\n",
              "            + ' to learn more about interactive tables.';\n",
              "          element.innerHTML = '';\n",
              "          dataTable['output_type'] = 'display_data';\n",
              "          await google.colab.output.renderOutput(dataTable, element);\n",
              "          const docLink = document.createElement('div');\n",
              "          docLink.innerHTML = docLinkHtml;\n",
              "          element.appendChild(docLink);\n",
              "        }\n",
              "      </script>\n",
              "    </div>\n",
              "  </div>\n",
              "  "
            ],
            "text/plain": [
              "   step      type    amount  ... newbalanceDest  isFraud  isFlaggedFraud\n",
              "0     1   PAYMENT   9839.64  ...            0.0        0               0\n",
              "1     1   PAYMENT   1864.28  ...            0.0        0               0\n",
              "2     1  TRANSFER    181.00  ...            0.0        1               0\n",
              "3     1  CASH_OUT    181.00  ...            0.0        1               0\n",
              "4     1   PAYMENT  11668.14  ...            0.0        0               0\n",
              "5     1   PAYMENT   7817.71  ...            0.0        0               0\n",
              "\n",
              "[6 rows x 11 columns]"
            ]
          },
          "metadata": {},
          "execution_count": 4
        }
      ],
      "source": [
        "df.head(n=6)"
      ]
    },
    {
      "cell_type": "code",
      "execution_count": null,
      "metadata": {
        "colab": {
          "base_uri": "https://localhost:8080/"
        },
        "id": "_YrPIsXjAh8u",
        "outputId": "8ae87b0f-6b10-4a94-aa62-6d2a09845cf9"
      },
      "outputs": [
        {
          "output_type": "stream",
          "name": "stdout",
          "text": [
            "<class 'pandas.core.frame.DataFrame'>\n",
            "RangeIndex: 6362620 entries, 0 to 6362619\n",
            "Data columns (total 11 columns):\n",
            " #   Column          Dtype  \n",
            "---  ------          -----  \n",
            " 0   step            int64  \n",
            " 1   type            object \n",
            " 2   amount          float64\n",
            " 3   nameOrig        object \n",
            " 4   oldbalanceOrg   float64\n",
            " 5   newbalanceOrig  float64\n",
            " 6   nameDest        object \n",
            " 7   oldbalanceDest  float64\n",
            " 8   newbalanceDest  float64\n",
            " 9   isFraud         int64  \n",
            " 10  isFlaggedFraud  int64  \n",
            "dtypes: float64(5), int64(3), object(3)\n",
            "memory usage: 534.0+ MB\n"
          ]
        }
      ],
      "source": [
        "df.info()"
      ]
    },
    {
      "cell_type": "code",
      "execution_count": null,
      "metadata": {
        "colab": {
          "base_uri": "https://localhost:8080/",
          "height": 300
        },
        "id": "zEcfqZlVBWBx",
        "outputId": "1d0ce75e-d060-4861-c111-bd95c3cbadc8"
      },
      "outputs": [
        {
          "output_type": "execute_result",
          "data": {
            "text/html": [
              "\n",
              "  <div id=\"df-ad47814f-7190-4b04-bb18-68b392efa4b5\">\n",
              "    <div class=\"colab-df-container\">\n",
              "      <div>\n",
              "<style scoped>\n",
              "    .dataframe tbody tr th:only-of-type {\n",
              "        vertical-align: middle;\n",
              "    }\n",
              "\n",
              "    .dataframe tbody tr th {\n",
              "        vertical-align: top;\n",
              "    }\n",
              "\n",
              "    .dataframe thead th {\n",
              "        text-align: right;\n",
              "    }\n",
              "</style>\n",
              "<table border=\"1\" class=\"dataframe\">\n",
              "  <thead>\n",
              "    <tr style=\"text-align: right;\">\n",
              "      <th></th>\n",
              "      <th>step</th>\n",
              "      <th>amount</th>\n",
              "      <th>oldbalanceOrg</th>\n",
              "      <th>newbalanceOrig</th>\n",
              "      <th>oldbalanceDest</th>\n",
              "      <th>newbalanceDest</th>\n",
              "      <th>isFraud</th>\n",
              "      <th>isFlaggedFraud</th>\n",
              "    </tr>\n",
              "  </thead>\n",
              "  <tbody>\n",
              "    <tr>\n",
              "      <th>count</th>\n",
              "      <td>6.362620e+06</td>\n",
              "      <td>6.362620e+06</td>\n",
              "      <td>6.362620e+06</td>\n",
              "      <td>6.362620e+06</td>\n",
              "      <td>6.362620e+06</td>\n",
              "      <td>6.362620e+06</td>\n",
              "      <td>6.362620e+06</td>\n",
              "      <td>6.362620e+06</td>\n",
              "    </tr>\n",
              "    <tr>\n",
              "      <th>mean</th>\n",
              "      <td>2.433972e+02</td>\n",
              "      <td>1.798619e+05</td>\n",
              "      <td>8.338831e+05</td>\n",
              "      <td>8.551137e+05</td>\n",
              "      <td>1.100702e+06</td>\n",
              "      <td>1.224996e+06</td>\n",
              "      <td>1.290820e-03</td>\n",
              "      <td>2.514687e-06</td>\n",
              "    </tr>\n",
              "    <tr>\n",
              "      <th>std</th>\n",
              "      <td>1.423320e+02</td>\n",
              "      <td>6.038582e+05</td>\n",
              "      <td>2.888243e+06</td>\n",
              "      <td>2.924049e+06</td>\n",
              "      <td>3.399180e+06</td>\n",
              "      <td>3.674129e+06</td>\n",
              "      <td>3.590480e-02</td>\n",
              "      <td>1.585775e-03</td>\n",
              "    </tr>\n",
              "    <tr>\n",
              "      <th>min</th>\n",
              "      <td>1.000000e+00</td>\n",
              "      <td>0.000000e+00</td>\n",
              "      <td>0.000000e+00</td>\n",
              "      <td>0.000000e+00</td>\n",
              "      <td>0.000000e+00</td>\n",
              "      <td>0.000000e+00</td>\n",
              "      <td>0.000000e+00</td>\n",
              "      <td>0.000000e+00</td>\n",
              "    </tr>\n",
              "    <tr>\n",
              "      <th>25%</th>\n",
              "      <td>1.560000e+02</td>\n",
              "      <td>1.338957e+04</td>\n",
              "      <td>0.000000e+00</td>\n",
              "      <td>0.000000e+00</td>\n",
              "      <td>0.000000e+00</td>\n",
              "      <td>0.000000e+00</td>\n",
              "      <td>0.000000e+00</td>\n",
              "      <td>0.000000e+00</td>\n",
              "    </tr>\n",
              "    <tr>\n",
              "      <th>50%</th>\n",
              "      <td>2.390000e+02</td>\n",
              "      <td>7.487194e+04</td>\n",
              "      <td>1.420800e+04</td>\n",
              "      <td>0.000000e+00</td>\n",
              "      <td>1.327057e+05</td>\n",
              "      <td>2.146614e+05</td>\n",
              "      <td>0.000000e+00</td>\n",
              "      <td>0.000000e+00</td>\n",
              "    </tr>\n",
              "    <tr>\n",
              "      <th>75%</th>\n",
              "      <td>3.350000e+02</td>\n",
              "      <td>2.087215e+05</td>\n",
              "      <td>1.073152e+05</td>\n",
              "      <td>1.442584e+05</td>\n",
              "      <td>9.430367e+05</td>\n",
              "      <td>1.111909e+06</td>\n",
              "      <td>0.000000e+00</td>\n",
              "      <td>0.000000e+00</td>\n",
              "    </tr>\n",
              "    <tr>\n",
              "      <th>max</th>\n",
              "      <td>7.430000e+02</td>\n",
              "      <td>9.244552e+07</td>\n",
              "      <td>5.958504e+07</td>\n",
              "      <td>4.958504e+07</td>\n",
              "      <td>3.560159e+08</td>\n",
              "      <td>3.561793e+08</td>\n",
              "      <td>1.000000e+00</td>\n",
              "      <td>1.000000e+00</td>\n",
              "    </tr>\n",
              "  </tbody>\n",
              "</table>\n",
              "</div>\n",
              "      <button class=\"colab-df-convert\" onclick=\"convertToInteractive('df-ad47814f-7190-4b04-bb18-68b392efa4b5')\"\n",
              "              title=\"Convert this dataframe to an interactive table.\"\n",
              "              style=\"display:none;\">\n",
              "        \n",
              "  <svg xmlns=\"http://www.w3.org/2000/svg\" height=\"24px\"viewBox=\"0 0 24 24\"\n",
              "       width=\"24px\">\n",
              "    <path d=\"M0 0h24v24H0V0z\" fill=\"none\"/>\n",
              "    <path d=\"M18.56 5.44l.94 2.06.94-2.06 2.06-.94-2.06-.94-.94-2.06-.94 2.06-2.06.94zm-11 1L8.5 8.5l.94-2.06 2.06-.94-2.06-.94L8.5 2.5l-.94 2.06-2.06.94zm10 10l.94 2.06.94-2.06 2.06-.94-2.06-.94-.94-2.06-.94 2.06-2.06.94z\"/><path d=\"M17.41 7.96l-1.37-1.37c-.4-.4-.92-.59-1.43-.59-.52 0-1.04.2-1.43.59L10.3 9.45l-7.72 7.72c-.78.78-.78 2.05 0 2.83L4 21.41c.39.39.9.59 1.41.59.51 0 1.02-.2 1.41-.59l7.78-7.78 2.81-2.81c.8-.78.8-2.07 0-2.86zM5.41 20L4 18.59l7.72-7.72 1.47 1.35L5.41 20z\"/>\n",
              "  </svg>\n",
              "      </button>\n",
              "      \n",
              "  <style>\n",
              "    .colab-df-container {\n",
              "      display:flex;\n",
              "      flex-wrap:wrap;\n",
              "      gap: 12px;\n",
              "    }\n",
              "\n",
              "    .colab-df-convert {\n",
              "      background-color: #E8F0FE;\n",
              "      border: none;\n",
              "      border-radius: 50%;\n",
              "      cursor: pointer;\n",
              "      display: none;\n",
              "      fill: #1967D2;\n",
              "      height: 32px;\n",
              "      padding: 0 0 0 0;\n",
              "      width: 32px;\n",
              "    }\n",
              "\n",
              "    .colab-df-convert:hover {\n",
              "      background-color: #E2EBFA;\n",
              "      box-shadow: 0px 1px 2px rgba(60, 64, 67, 0.3), 0px 1px 3px 1px rgba(60, 64, 67, 0.15);\n",
              "      fill: #174EA6;\n",
              "    }\n",
              "\n",
              "    [theme=dark] .colab-df-convert {\n",
              "      background-color: #3B4455;\n",
              "      fill: #D2E3FC;\n",
              "    }\n",
              "\n",
              "    [theme=dark] .colab-df-convert:hover {\n",
              "      background-color: #434B5C;\n",
              "      box-shadow: 0px 1px 3px 1px rgba(0, 0, 0, 0.15);\n",
              "      filter: drop-shadow(0px 1px 2px rgba(0, 0, 0, 0.3));\n",
              "      fill: #FFFFFF;\n",
              "    }\n",
              "  </style>\n",
              "\n",
              "      <script>\n",
              "        const buttonEl =\n",
              "          document.querySelector('#df-ad47814f-7190-4b04-bb18-68b392efa4b5 button.colab-df-convert');\n",
              "        buttonEl.style.display =\n",
              "          google.colab.kernel.accessAllowed ? 'block' : 'none';\n",
              "\n",
              "        async function convertToInteractive(key) {\n",
              "          const element = document.querySelector('#df-ad47814f-7190-4b04-bb18-68b392efa4b5');\n",
              "          const dataTable =\n",
              "            await google.colab.kernel.invokeFunction('convertToInteractive',\n",
              "                                                     [key], {});\n",
              "          if (!dataTable) return;\n",
              "\n",
              "          const docLinkHtml = 'Like what you see? Visit the ' +\n",
              "            '<a target=\"_blank\" href=https://colab.research.google.com/notebooks/data_table.ipynb>data table notebook</a>'\n",
              "            + ' to learn more about interactive tables.';\n",
              "          element.innerHTML = '';\n",
              "          dataTable['output_type'] = 'display_data';\n",
              "          await google.colab.output.renderOutput(dataTable, element);\n",
              "          const docLink = document.createElement('div');\n",
              "          docLink.innerHTML = docLinkHtml;\n",
              "          element.appendChild(docLink);\n",
              "        }\n",
              "      </script>\n",
              "    </div>\n",
              "  </div>\n",
              "  "
            ],
            "text/plain": [
              "               step        amount  ...       isFraud  isFlaggedFraud\n",
              "count  6.362620e+06  6.362620e+06  ...  6.362620e+06    6.362620e+06\n",
              "mean   2.433972e+02  1.798619e+05  ...  1.290820e-03    2.514687e-06\n",
              "std    1.423320e+02  6.038582e+05  ...  3.590480e-02    1.585775e-03\n",
              "min    1.000000e+00  0.000000e+00  ...  0.000000e+00    0.000000e+00\n",
              "25%    1.560000e+02  1.338957e+04  ...  0.000000e+00    0.000000e+00\n",
              "50%    2.390000e+02  7.487194e+04  ...  0.000000e+00    0.000000e+00\n",
              "75%    3.350000e+02  2.087215e+05  ...  0.000000e+00    0.000000e+00\n",
              "max    7.430000e+02  9.244552e+07  ...  1.000000e+00    1.000000e+00\n",
              "\n",
              "[8 rows x 8 columns]"
            ]
          },
          "metadata": {},
          "execution_count": 6
        }
      ],
      "source": [
        "df.describe()"
      ]
    },
    {
      "cell_type": "code",
      "execution_count": null,
      "metadata": {
        "colab": {
          "base_uri": "https://localhost:8080/",
          "height": 394
        },
        "id": "nG9jTz2MDHDn",
        "outputId": "05ce1c0f-97b4-4991-f715-c7216442953f"
      },
      "outputs": [
        {
          "output_type": "execute_result",
          "data": {
            "text/html": [
              "\n",
              "  <div id=\"df-bf7ef0d6-9988-4fc3-9b78-7a809cc8cd1f\">\n",
              "    <div class=\"colab-df-container\">\n",
              "      <div>\n",
              "<style scoped>\n",
              "    .dataframe tbody tr th:only-of-type {\n",
              "        vertical-align: middle;\n",
              "    }\n",
              "\n",
              "    .dataframe tbody tr th {\n",
              "        vertical-align: top;\n",
              "    }\n",
              "\n",
              "    .dataframe thead th {\n",
              "        text-align: right;\n",
              "    }\n",
              "</style>\n",
              "<table border=\"1\" class=\"dataframe\">\n",
              "  <thead>\n",
              "    <tr style=\"text-align: right;\">\n",
              "      <th></th>\n",
              "      <th>step</th>\n",
              "      <th>type</th>\n",
              "      <th>amount</th>\n",
              "      <th>nameOrig</th>\n",
              "      <th>oldbalanceOrg</th>\n",
              "      <th>newbalanceOrig</th>\n",
              "      <th>nameDest</th>\n",
              "      <th>oldbalanceDest</th>\n",
              "      <th>newbalanceDest</th>\n",
              "      <th>isFraud</th>\n",
              "      <th>isFlaggedFraud</th>\n",
              "    </tr>\n",
              "  </thead>\n",
              "  <tbody>\n",
              "    <tr>\n",
              "      <th>count</th>\n",
              "      <td>6.362620e+06</td>\n",
              "      <td>6362620</td>\n",
              "      <td>6.362620e+06</td>\n",
              "      <td>6362620</td>\n",
              "      <td>6.362620e+06</td>\n",
              "      <td>6.362620e+06</td>\n",
              "      <td>6362620</td>\n",
              "      <td>6.362620e+06</td>\n",
              "      <td>6.362620e+06</td>\n",
              "      <td>6.362620e+06</td>\n",
              "      <td>6.362620e+06</td>\n",
              "    </tr>\n",
              "    <tr>\n",
              "      <th>unique</th>\n",
              "      <td>NaN</td>\n",
              "      <td>5</td>\n",
              "      <td>NaN</td>\n",
              "      <td>6353307</td>\n",
              "      <td>NaN</td>\n",
              "      <td>NaN</td>\n",
              "      <td>2722362</td>\n",
              "      <td>NaN</td>\n",
              "      <td>NaN</td>\n",
              "      <td>NaN</td>\n",
              "      <td>NaN</td>\n",
              "    </tr>\n",
              "    <tr>\n",
              "      <th>top</th>\n",
              "      <td>NaN</td>\n",
              "      <td>CASH_OUT</td>\n",
              "      <td>NaN</td>\n",
              "      <td>C1902386530</td>\n",
              "      <td>NaN</td>\n",
              "      <td>NaN</td>\n",
              "      <td>C1286084959</td>\n",
              "      <td>NaN</td>\n",
              "      <td>NaN</td>\n",
              "      <td>NaN</td>\n",
              "      <td>NaN</td>\n",
              "    </tr>\n",
              "    <tr>\n",
              "      <th>freq</th>\n",
              "      <td>NaN</td>\n",
              "      <td>2237500</td>\n",
              "      <td>NaN</td>\n",
              "      <td>3</td>\n",
              "      <td>NaN</td>\n",
              "      <td>NaN</td>\n",
              "      <td>113</td>\n",
              "      <td>NaN</td>\n",
              "      <td>NaN</td>\n",
              "      <td>NaN</td>\n",
              "      <td>NaN</td>\n",
              "    </tr>\n",
              "    <tr>\n",
              "      <th>mean</th>\n",
              "      <td>2.433972e+02</td>\n",
              "      <td>NaN</td>\n",
              "      <td>1.798619e+05</td>\n",
              "      <td>NaN</td>\n",
              "      <td>8.338831e+05</td>\n",
              "      <td>8.551137e+05</td>\n",
              "      <td>NaN</td>\n",
              "      <td>1.100702e+06</td>\n",
              "      <td>1.224996e+06</td>\n",
              "      <td>1.290820e-03</td>\n",
              "      <td>2.514687e-06</td>\n",
              "    </tr>\n",
              "    <tr>\n",
              "      <th>std</th>\n",
              "      <td>1.423320e+02</td>\n",
              "      <td>NaN</td>\n",
              "      <td>6.038582e+05</td>\n",
              "      <td>NaN</td>\n",
              "      <td>2.888243e+06</td>\n",
              "      <td>2.924049e+06</td>\n",
              "      <td>NaN</td>\n",
              "      <td>3.399180e+06</td>\n",
              "      <td>3.674129e+06</td>\n",
              "      <td>3.590480e-02</td>\n",
              "      <td>1.585775e-03</td>\n",
              "    </tr>\n",
              "    <tr>\n",
              "      <th>min</th>\n",
              "      <td>1.000000e+00</td>\n",
              "      <td>NaN</td>\n",
              "      <td>0.000000e+00</td>\n",
              "      <td>NaN</td>\n",
              "      <td>0.000000e+00</td>\n",
              "      <td>0.000000e+00</td>\n",
              "      <td>NaN</td>\n",
              "      <td>0.000000e+00</td>\n",
              "      <td>0.000000e+00</td>\n",
              "      <td>0.000000e+00</td>\n",
              "      <td>0.000000e+00</td>\n",
              "    </tr>\n",
              "    <tr>\n",
              "      <th>25%</th>\n",
              "      <td>1.560000e+02</td>\n",
              "      <td>NaN</td>\n",
              "      <td>1.338957e+04</td>\n",
              "      <td>NaN</td>\n",
              "      <td>0.000000e+00</td>\n",
              "      <td>0.000000e+00</td>\n",
              "      <td>NaN</td>\n",
              "      <td>0.000000e+00</td>\n",
              "      <td>0.000000e+00</td>\n",
              "      <td>0.000000e+00</td>\n",
              "      <td>0.000000e+00</td>\n",
              "    </tr>\n",
              "    <tr>\n",
              "      <th>50%</th>\n",
              "      <td>2.390000e+02</td>\n",
              "      <td>NaN</td>\n",
              "      <td>7.487194e+04</td>\n",
              "      <td>NaN</td>\n",
              "      <td>1.420800e+04</td>\n",
              "      <td>0.000000e+00</td>\n",
              "      <td>NaN</td>\n",
              "      <td>1.327057e+05</td>\n",
              "      <td>2.146614e+05</td>\n",
              "      <td>0.000000e+00</td>\n",
              "      <td>0.000000e+00</td>\n",
              "    </tr>\n",
              "    <tr>\n",
              "      <th>75%</th>\n",
              "      <td>3.350000e+02</td>\n",
              "      <td>NaN</td>\n",
              "      <td>2.087215e+05</td>\n",
              "      <td>NaN</td>\n",
              "      <td>1.073152e+05</td>\n",
              "      <td>1.442584e+05</td>\n",
              "      <td>NaN</td>\n",
              "      <td>9.430367e+05</td>\n",
              "      <td>1.111909e+06</td>\n",
              "      <td>0.000000e+00</td>\n",
              "      <td>0.000000e+00</td>\n",
              "    </tr>\n",
              "    <tr>\n",
              "      <th>max</th>\n",
              "      <td>7.430000e+02</td>\n",
              "      <td>NaN</td>\n",
              "      <td>9.244552e+07</td>\n",
              "      <td>NaN</td>\n",
              "      <td>5.958504e+07</td>\n",
              "      <td>4.958504e+07</td>\n",
              "      <td>NaN</td>\n",
              "      <td>3.560159e+08</td>\n",
              "      <td>3.561793e+08</td>\n",
              "      <td>1.000000e+00</td>\n",
              "      <td>1.000000e+00</td>\n",
              "    </tr>\n",
              "  </tbody>\n",
              "</table>\n",
              "</div>\n",
              "      <button class=\"colab-df-convert\" onclick=\"convertToInteractive('df-bf7ef0d6-9988-4fc3-9b78-7a809cc8cd1f')\"\n",
              "              title=\"Convert this dataframe to an interactive table.\"\n",
              "              style=\"display:none;\">\n",
              "        \n",
              "  <svg xmlns=\"http://www.w3.org/2000/svg\" height=\"24px\"viewBox=\"0 0 24 24\"\n",
              "       width=\"24px\">\n",
              "    <path d=\"M0 0h24v24H0V0z\" fill=\"none\"/>\n",
              "    <path d=\"M18.56 5.44l.94 2.06.94-2.06 2.06-.94-2.06-.94-.94-2.06-.94 2.06-2.06.94zm-11 1L8.5 8.5l.94-2.06 2.06-.94-2.06-.94L8.5 2.5l-.94 2.06-2.06.94zm10 10l.94 2.06.94-2.06 2.06-.94-2.06-.94-.94-2.06-.94 2.06-2.06.94z\"/><path d=\"M17.41 7.96l-1.37-1.37c-.4-.4-.92-.59-1.43-.59-.52 0-1.04.2-1.43.59L10.3 9.45l-7.72 7.72c-.78.78-.78 2.05 0 2.83L4 21.41c.39.39.9.59 1.41.59.51 0 1.02-.2 1.41-.59l7.78-7.78 2.81-2.81c.8-.78.8-2.07 0-2.86zM5.41 20L4 18.59l7.72-7.72 1.47 1.35L5.41 20z\"/>\n",
              "  </svg>\n",
              "      </button>\n",
              "      \n",
              "  <style>\n",
              "    .colab-df-container {\n",
              "      display:flex;\n",
              "      flex-wrap:wrap;\n",
              "      gap: 12px;\n",
              "    }\n",
              "\n",
              "    .colab-df-convert {\n",
              "      background-color: #E8F0FE;\n",
              "      border: none;\n",
              "      border-radius: 50%;\n",
              "      cursor: pointer;\n",
              "      display: none;\n",
              "      fill: #1967D2;\n",
              "      height: 32px;\n",
              "      padding: 0 0 0 0;\n",
              "      width: 32px;\n",
              "    }\n",
              "\n",
              "    .colab-df-convert:hover {\n",
              "      background-color: #E2EBFA;\n",
              "      box-shadow: 0px 1px 2px rgba(60, 64, 67, 0.3), 0px 1px 3px 1px rgba(60, 64, 67, 0.15);\n",
              "      fill: #174EA6;\n",
              "    }\n",
              "\n",
              "    [theme=dark] .colab-df-convert {\n",
              "      background-color: #3B4455;\n",
              "      fill: #D2E3FC;\n",
              "    }\n",
              "\n",
              "    [theme=dark] .colab-df-convert:hover {\n",
              "      background-color: #434B5C;\n",
              "      box-shadow: 0px 1px 3px 1px rgba(0, 0, 0, 0.15);\n",
              "      filter: drop-shadow(0px 1px 2px rgba(0, 0, 0, 0.3));\n",
              "      fill: #FFFFFF;\n",
              "    }\n",
              "  </style>\n",
              "\n",
              "      <script>\n",
              "        const buttonEl =\n",
              "          document.querySelector('#df-bf7ef0d6-9988-4fc3-9b78-7a809cc8cd1f button.colab-df-convert');\n",
              "        buttonEl.style.display =\n",
              "          google.colab.kernel.accessAllowed ? 'block' : 'none';\n",
              "\n",
              "        async function convertToInteractive(key) {\n",
              "          const element = document.querySelector('#df-bf7ef0d6-9988-4fc3-9b78-7a809cc8cd1f');\n",
              "          const dataTable =\n",
              "            await google.colab.kernel.invokeFunction('convertToInteractive',\n",
              "                                                     [key], {});\n",
              "          if (!dataTable) return;\n",
              "\n",
              "          const docLinkHtml = 'Like what you see? Visit the ' +\n",
              "            '<a target=\"_blank\" href=https://colab.research.google.com/notebooks/data_table.ipynb>data table notebook</a>'\n",
              "            + ' to learn more about interactive tables.';\n",
              "          element.innerHTML = '';\n",
              "          dataTable['output_type'] = 'display_data';\n",
              "          await google.colab.output.renderOutput(dataTable, element);\n",
              "          const docLink = document.createElement('div');\n",
              "          docLink.innerHTML = docLinkHtml;\n",
              "          element.appendChild(docLink);\n",
              "        }\n",
              "      </script>\n",
              "    </div>\n",
              "  </div>\n",
              "  "
            ],
            "text/plain": [
              "                step      type  ...       isFraud isFlaggedFraud\n",
              "count   6.362620e+06   6362620  ...  6.362620e+06   6.362620e+06\n",
              "unique           NaN         5  ...           NaN            NaN\n",
              "top              NaN  CASH_OUT  ...           NaN            NaN\n",
              "freq             NaN   2237500  ...           NaN            NaN\n",
              "mean    2.433972e+02       NaN  ...  1.290820e-03   2.514687e-06\n",
              "std     1.423320e+02       NaN  ...  3.590480e-02   1.585775e-03\n",
              "min     1.000000e+00       NaN  ...  0.000000e+00   0.000000e+00\n",
              "25%     1.560000e+02       NaN  ...  0.000000e+00   0.000000e+00\n",
              "50%     2.390000e+02       NaN  ...  0.000000e+00   0.000000e+00\n",
              "75%     3.350000e+02       NaN  ...  0.000000e+00   0.000000e+00\n",
              "max     7.430000e+02       NaN  ...  1.000000e+00   1.000000e+00\n",
              "\n",
              "[11 rows x 11 columns]"
            ]
          },
          "metadata": {},
          "execution_count": 7
        }
      ],
      "source": [
        "df.describe(include='all')"
      ]
    },
    {
      "cell_type": "code",
      "execution_count": null,
      "metadata": {
        "colab": {
          "base_uri": "https://localhost:8080/"
        },
        "id": "6XRFFJFPEplH",
        "outputId": "105827c2-f3d5-4249-b618-652b650f7483"
      },
      "outputs": [
        {
          "output_type": "execute_result",
          "data": {
            "text/plain": [
              "0    6354407\n",
              "1       8213\n",
              "Name: isFraud, dtype: int64"
            ]
          },
          "metadata": {},
          "execution_count": 8
        }
      ],
      "source": [
        "# Count the frequency of good and bad credit risks\n",
        "df.isFraud.value_counts()"
      ]
    },
    {
      "cell_type": "code",
      "execution_count": null,
      "metadata": {
        "colab": {
          "base_uri": "https://localhost:8080/"
        },
        "id": "sqAOkBDfJoCj",
        "outputId": "f7f9775f-a617-4601-8dfb-777952cceb66"
      },
      "outputs": [
        {
          "output_type": "stream",
          "name": "stdout",
          "text": [
            "<class 'pandas.core.frame.DataFrame'>\n",
            "RangeIndex: 6362620 entries, 0 to 6362619\n",
            "Data columns (total 11 columns):\n",
            " #   Column          Dtype   \n",
            "---  ------          -----   \n",
            " 0   step            int64   \n",
            " 1   type            category\n",
            " 2   amount          float64 \n",
            " 3   nameOrig        string  \n",
            " 4   oldbalanceOrg   float64 \n",
            " 5   newbalanceOrig  float64 \n",
            " 6   nameDest        string  \n",
            " 7   oldbalanceDest  float64 \n",
            " 8   newbalanceDest  float64 \n",
            " 9   isFraud         int64   \n",
            " 10  isFlaggedFraud  int64   \n",
            "dtypes: category(1), float64(5), int64(3), string(2)\n",
            "memory usage: 491.5 MB\n"
          ]
        }
      ],
      "source": [
        "df['type'] = df['type'].astype('category')\n",
        "df['nameOrig'] = df['nameOrig'].astype('string')\n",
        "df['nameDest'] = df['nameDest'].astype('string')\n",
        "df.info()"
      ]
    },
    {
      "cell_type": "code",
      "execution_count": null,
      "metadata": {
        "colab": {
          "base_uri": "https://localhost:8080/"
        },
        "id": "46EbL2nvLj1h",
        "outputId": "83531e1a-1410-4920-f4b8-4b64b09b1139"
      },
      "outputs": [
        {
          "output_type": "stream",
          "name": "stdout",
          "text": [
            "<class 'pandas.core.frame.DataFrame'>\n",
            "RangeIndex: 6362620 entries, 0 to 6362619\n",
            "Data columns (total 11 columns):\n",
            " #   Column          Dtype   \n",
            "---  ------          -----   \n",
            " 0   step            float32 \n",
            " 1   type            category\n",
            " 2   amount          float32 \n",
            " 3   nameOrig        string  \n",
            " 4   oldbalanceOrg   float32 \n",
            " 5   newbalanceOrig  float32 \n",
            " 6   nameDest        string  \n",
            " 7   oldbalanceDest  float32 \n",
            " 8   newbalanceDest  float32 \n",
            " 9   isFraud         bool    \n",
            " 10  isFlaggedFraud  bool    \n",
            "dtypes: bool(2), category(1), float32(6), string(2)\n",
            "memory usage: 260.9 MB\n"
          ]
        }
      ],
      "source": [
        "# The target variable has only two states so that we can store it as a boolean\n",
        "df['isFraud'] = df['isFraud'].astype('bool')\n",
        "df['isFlaggedFraud'] = df['isFlaggedFraud'].astype('bool')\n",
        "\n",
        "# For simplicity, we also convert LOAN to a float so that all numeric variables are of type float\n",
        "df['step'] = df['step'].astype(np.float64)\n",
        "\n",
        "# Last, let's change all numeric variables from float64 to float32 to reduce memory consumption\n",
        "num_vars = df.select_dtypes(include=np.float64).columns\n",
        "df[num_vars] = df[num_vars].astype(np.float32)\n",
        "df.info()"
      ]
    },
    {
      "cell_type": "markdown",
      "metadata": {
        "id": "YrwrbA0mOL9B"
      },
      "source": [
        "Note that the conversion from object to category has reduced the amount of memory that the data frame consumes. changing some more data types. The target variable in our case is isFraud. It is stored as an integer but we know that it has only two states. So we can convert the target to a boolean. Further, we might not need the numeric precision that the data type float64 or int64 provides. Downcasting to 32 bit precision should not affect modeling results too much. On my machine, we need 303.4 MB after the translation, whereas we needed more than  534 MB for the original data frame. As we can see with millions of observations the above conversions will result in a significant reduction of memory consumption."
      ]
    },
    {
      "cell_type": "code",
      "execution_count": null,
      "metadata": {
        "colab": {
          "base_uri": "https://localhost:8080/"
        },
        "id": "NerM49EVQAdq",
        "outputId": "8b2b70ac-2512-4444-82e0-a00cb0dcab7e"
      },
      "outputs": [
        {
          "output_type": "execute_result",
          "data": {
            "text/plain": [
              "0"
            ]
          },
          "metadata": {},
          "execution_count": 11
        }
      ],
      "source": [
        "# count the total number of missing values\n",
        "df.isnull().sum().sum()"
      ]
    },
    {
      "cell_type": "markdown",
      "source": [
        "We can that our data is free from any missing values. "
      ],
      "metadata": {
        "id": "qlW0bOidQvDI"
      }
    },
    {
      "cell_type": "code",
      "execution_count": null,
      "metadata": {
        "id": "UtohdF4W8M7k"
      },
      "outputs": [],
      "source": [
        "df_copy = df"
      ]
    },
    {
      "cell_type": "markdown",
      "source": [
        "# Data import, EDA and data cleaning"
      ],
      "metadata": {
        "id": "YoIPfvIalpja"
      }
    },
    {
      "cell_type": "markdown",
      "metadata": {
        "id": "BQaL1GAU238v"
      },
      "source": [
        "### Univariate analysis of numeric features"
      ]
    },
    {
      "cell_type": "code",
      "execution_count": null,
      "metadata": {
        "colab": {
          "base_uri": "https://localhost:8080/",
          "height": 552
        },
        "id": "nYU3Wx493CrA",
        "outputId": "7380ce5f-b0f2-404e-e75f-fd282da20357"
      },
      "outputs": [
        {
          "output_type": "display_data",
          "data": {
            "text/plain": [
              "<Figure size 864x576 with 0 Axes>"
            ]
          },
          "metadata": {}
        },
        {
          "output_type": "display_data",
          "data": {
            "image/png": "[encoded data removed]",
            "text/plain": [
              "<Figure size 432x288 with 3 Axes>"
            ]
          },
          "metadata": {
            "needs_background": "light"
          }
        },
        {
          "output_type": "display_data",
          "data": {
            "image/png": "[encoded data removed]",
            "text/plain": [
              "<Figure size 432x288 with 3 Axes>"
            ]
          },
          "metadata": {
            "needs_background": "light"
          }
        }
      ],
      "source": [
        "plt.figure(figsize=(12,8))  # enlarge the figure\n",
        "num_vars = df.select_dtypes(include=\"float32\")\n",
        "half = np.ceil(num_vars.shape[1] / 2).astype(int)  # for cosmetic reasons we split the plots into two rows\n",
        "num_vars.iloc[:, 0:half].plot(kind = 'box', subplots=True);\n",
        "num_vars.iloc[:, half:num_vars.shape[1]].plot(kind = 'box', subplots=True);"
      ]
    },
    {
      "cell_type": "code",
      "execution_count": null,
      "metadata": {
        "colab": {
          "base_uri": "https://localhost:8080/",
          "height": 621
        },
        "id": "MON0-zD86WG3",
        "outputId": "63c35264-1273-4cfa-d8f9-ad33b36dcd8b"
      },
      "outputs": [
        {
          "output_type": "display_data",
          "data": {
            "image/png": "[encoded data removed]",
            "text/plain": [
              "<Figure size 1080x720 with 6 Axes>"
            ]
          },
          "metadata": {
            "needs_background": "light"
          }
        }
      ],
      "source": [
        " df_select = df.select_dtypes(include='float32')\n",
        " df.select_dtypes(include='float32').hist(bins=30, figsize=(15, 10));"
      ]
    },
    {
      "cell_type": "markdown",
      "metadata": {
        "id": "TdswDhQdDHq7"
      },
      "source": [
        "### Handling outliers based on IQR"
      ]
    },
    {
      "cell_type": "code",
      "execution_count": null,
      "metadata": {
        "id": "rjulhmm0DFye"
      },
      "outputs": [],
      "source": [
        "def outlier_truncation(x, factor=1.5):\n",
        "    x_new = x.copy()\n",
        "    \n",
        "    # Calculate IQR\n",
        "    IQR = x.quantile(0.75) - x.quantile(0.25) \n",
        "    \n",
        "    # Define upper/lower bound\n",
        "    upper = x.quantile(0.75) + factor*IQR\n",
        "    lower = x.quantile(0.25) - factor*IQR\n",
        "    \n",
        "    # Truncation\n",
        "    x_new[x < lower] = lower\n",
        "    x_new[x > upper] = upper\n",
        "    \n",
        "    return x_new"
      ]
    },
    {
      "cell_type": "code",
      "execution_count": null,
      "metadata": {
        "colab": {
          "base_uri": "https://localhost:8080/",
          "height": 300
        },
        "id": "CSIH4wPHDU_C",
        "outputId": "b490c231-e276-46f1-f78f-9ae67b69f3a2"
      },
      "outputs": [
        {
          "output_type": "execute_result",
          "data": {
            "text/html": [
              "\n",
              "  <div id=\"df-fa2bce76-bf08-4cb8-9d1d-65021198ad13\">\n",
              "    <div class=\"colab-df-container\">\n",
              "      <div>\n",
              "<style scoped>\n",
              "    .dataframe tbody tr th:only-of-type {\n",
              "        vertical-align: middle;\n",
              "    }\n",
              "\n",
              "    .dataframe tbody tr th {\n",
              "        vertical-align: top;\n",
              "    }\n",
              "\n",
              "    .dataframe thead th {\n",
              "        text-align: right;\n",
              "    }\n",
              "</style>\n",
              "<table border=\"1\" class=\"dataframe\">\n",
              "  <thead>\n",
              "    <tr style=\"text-align: right;\">\n",
              "      <th></th>\n",
              "      <th>step</th>\n",
              "      <th>amount</th>\n",
              "      <th>oldbalanceOrg</th>\n",
              "      <th>newbalanceOrig</th>\n",
              "      <th>oldbalanceDest</th>\n",
              "      <th>newbalanceDest</th>\n",
              "    </tr>\n",
              "  </thead>\n",
              "  <tbody>\n",
              "    <tr>\n",
              "      <th>count</th>\n",
              "      <td>6.362620e+06</td>\n",
              "      <td>6.362620e+06</td>\n",
              "      <td>6.362620e+06</td>\n",
              "      <td>6.362620e+06</td>\n",
              "      <td>6.362620e+06</td>\n",
              "      <td>6.362620e+06</td>\n",
              "    </tr>\n",
              "    <tr>\n",
              "      <th>mean</th>\n",
              "      <td>2.419529e+02</td>\n",
              "      <td>1.412283e+05</td>\n",
              "      <td>9.747583e+04</td>\n",
              "      <td>1.215172e+05</td>\n",
              "      <td>7.316314e+05</td>\n",
              "      <td>8.569036e+05</td>\n",
              "    </tr>\n",
              "    <tr>\n",
              "      <th>std</th>\n",
              "      <td>1.421901e+02</td>\n",
              "      <td>1.785320e+05</td>\n",
              "      <td>1.541414e+05</td>\n",
              "      <td>2.079487e+05</td>\n",
              "      <td>1.159244e+06</td>\n",
              "      <td>1.313869e+06</td>\n",
              "    </tr>\n",
              "    <tr>\n",
              "      <th>min</th>\n",
              "      <td>1.000000e+00</td>\n",
              "      <td>0.000000e+00</td>\n",
              "      <td>0.000000e+00</td>\n",
              "      <td>0.000000e+00</td>\n",
              "      <td>0.000000e+00</td>\n",
              "      <td>0.000000e+00</td>\n",
              "    </tr>\n",
              "    <tr>\n",
              "      <th>25%</th>\n",
              "      <td>1.560000e+02</td>\n",
              "      <td>1.338957e+04</td>\n",
              "      <td>0.000000e+00</td>\n",
              "      <td>0.000000e+00</td>\n",
              "      <td>0.000000e+00</td>\n",
              "      <td>0.000000e+00</td>\n",
              "    </tr>\n",
              "    <tr>\n",
              "      <th>50%</th>\n",
              "      <td>2.390000e+02</td>\n",
              "      <td>7.487194e+04</td>\n",
              "      <td>1.420800e+04</td>\n",
              "      <td>0.000000e+00</td>\n",
              "      <td>1.327057e+05</td>\n",
              "      <td>2.146614e+05</td>\n",
              "    </tr>\n",
              "    <tr>\n",
              "      <th>75%</th>\n",
              "      <td>3.350000e+02</td>\n",
              "      <td>2.087215e+05</td>\n",
              "      <td>1.073152e+05</td>\n",
              "      <td>1.442584e+05</td>\n",
              "      <td>9.430367e+05</td>\n",
              "      <td>1.111909e+06</td>\n",
              "    </tr>\n",
              "    <tr>\n",
              "      <th>max</th>\n",
              "      <td>7.430000e+02</td>\n",
              "      <td>7.947172e+05</td>\n",
              "      <td>4.292607e+05</td>\n",
              "      <td>5.770336e+05</td>\n",
              "      <td>3.772147e+06</td>\n",
              "      <td>4.447637e+06</td>\n",
              "    </tr>\n",
              "  </tbody>\n",
              "</table>\n",
              "</div>\n",
              "      <button class=\"colab-df-convert\" onclick=\"convertToInteractive('df-fa2bce76-bf08-4cb8-9d1d-65021198ad13')\"\n",
              "              title=\"Convert this dataframe to an interactive table.\"\n",
              "              style=\"display:none;\">\n",
              "        \n",
              "  <svg xmlns=\"http://www.w3.org/2000/svg\" height=\"24px\"viewBox=\"0 0 24 24\"\n",
              "       width=\"24px\">\n",
              "    <path d=\"M0 0h24v24H0V0z\" fill=\"none\"/>\n",
              "    <path d=\"M18.56 5.44l.94 2.06.94-2.06 2.06-.94-2.06-.94-.94-2.06-.94 2.06-2.06.94zm-11 1L8.5 8.5l.94-2.06 2.06-.94-2.06-.94L8.5 2.5l-.94 2.06-2.06.94zm10 10l.94 2.06.94-2.06 2.06-.94-2.06-.94-.94-2.06-.94 2.06-2.06.94z\"/><path d=\"M17.41 7.96l-1.37-1.37c-.4-.4-.92-.59-1.43-.59-.52 0-1.04.2-1.43.59L10.3 9.45l-7.72 7.72c-.78.78-.78 2.05 0 2.83L4 21.41c.39.39.9.59 1.41.59.51 0 1.02-.2 1.41-.59l7.78-7.78 2.81-2.81c.8-.78.8-2.07 0-2.86zM5.41 20L4 18.59l7.72-7.72 1.47 1.35L5.41 20z\"/>\n",
              "  </svg>\n",
              "      </button>\n",
              "      \n",
              "  <style>\n",
              "    .colab-df-container {\n",
              "      display:flex;\n",
              "      flex-wrap:wrap;\n",
              "      gap: 12px;\n",
              "    }\n",
              "\n",
              "    .colab-df-convert {\n",
              "      background-color: #E8F0FE;\n",
              "      border: none;\n",
              "      border-radius: 50%;\n",
              "      cursor: pointer;\n",
              "      display: none;\n",
              "      fill: #1967D2;\n",
              "      height: 32px;\n",
              "      padding: 0 0 0 0;\n",
              "      width: 32px;\n",
              "    }\n",
              "\n",
              "    .colab-df-convert:hover {\n",
              "      background-color: #E2EBFA;\n",
              "      box-shadow: 0px 1px 2px rgba(60, 64, 67, 0.3), 0px 1px 3px 1px rgba(60, 64, 67, 0.15);\n",
              "      fill: #174EA6;\n",
              "    }\n",
              "\n",
              "    [theme=dark] .colab-df-convert {\n",
              "      background-color: #3B4455;\n",
              "      fill: #D2E3FC;\n",
              "    }\n",
              "\n",
              "    [theme=dark] .colab-df-convert:hover {\n",
              "      background-color: #434B5C;\n",
              "      box-shadow: 0px 1px 3px 1px rgba(0, 0, 0, 0.15);\n",
              "      filter: drop-shadow(0px 1px 2px rgba(0, 0, 0, 0.3));\n",
              "      fill: #FFFFFF;\n",
              "    }\n",
              "  </style>\n",
              "\n",
              "      <script>\n",
              "        const buttonEl =\n",
              "          document.querySelector('#df-fa2bce76-bf08-4cb8-9d1d-65021198ad13 button.colab-df-convert');\n",
              "        buttonEl.style.display =\n",
              "          google.colab.kernel.accessAllowed ? 'block' : 'none';\n",
              "\n",
              "        async function convertToInteractive(key) {\n",
              "          const element = document.querySelector('#df-fa2bce76-bf08-4cb8-9d1d-65021198ad13');\n",
              "          const dataTable =\n",
              "            await google.colab.kernel.invokeFunction('convertToInteractive',\n",
              "                                                     [key], {});\n",
              "          if (!dataTable) return;\n",
              "\n",
              "          const docLinkHtml = 'Like what you see? Visit the ' +\n",
              "            '<a target=\"_blank\" href=https://colab.research.google.com/notebooks/data_table.ipynb>data table notebook</a>'\n",
              "            + ' to learn more about interactive tables.';\n",
              "          element.innerHTML = '';\n",
              "          dataTable['output_type'] = 'display_data';\n",
              "          await google.colab.output.renderOutput(dataTable, element);\n",
              "          const docLink = document.createElement('div');\n",
              "          docLink.innerHTML = docLinkHtml;\n",
              "          element.appendChild(docLink);\n",
              "        }\n",
              "      </script>\n",
              "    </div>\n",
              "  </div>\n",
              "  "
            ],
            "text/plain": [
              "               step        amount  ...  oldbalanceDest  newbalanceDest\n",
              "count  6.362620e+06  6.362620e+06  ...    6.362620e+06    6.362620e+06\n",
              "mean   2.419529e+02  1.412283e+05  ...    7.316314e+05    8.569036e+05\n",
              "std    1.421901e+02  1.785320e+05  ...    1.159244e+06    1.313869e+06\n",
              "min    1.000000e+00  0.000000e+00  ...    0.000000e+00    0.000000e+00\n",
              "25%    1.560000e+02  1.338957e+04  ...    0.000000e+00    0.000000e+00\n",
              "50%    2.390000e+02  7.487194e+04  ...    1.327057e+05    2.146614e+05\n",
              "75%    3.350000e+02  2.087215e+05  ...    9.430367e+05    1.111909e+06\n",
              "max    7.430000e+02  7.947172e+05  ...    3.772147e+06    4.447637e+06\n",
              "\n",
              "[8 rows x 6 columns]"
            ]
          },
          "metadata": {},
          "execution_count": 16
        }
      ],
      "source": [
        "# Select numeric variables for outlier treatment. \n",
        "num_cols = [x for x in df.columns if df[x].dtype == 'float32']  \n",
        "df[num_cols] = df[num_cols].apply(outlier_truncation, axis=0, args=(3,))  \n",
        "df.describe()"
      ]
    },
    {
      "cell_type": "code",
      "execution_count": null,
      "metadata": {
        "colab": {
          "base_uri": "https://localhost:8080/",
          "height": 542
        },
        "id": "5mzr5tEuqfZ0",
        "outputId": "cdd70cef-d5fa-4597-a61d-ab28a752ad45"
      },
      "outputs": [
        {
          "output_type": "display_data",
          "data": {
            "text/plain": [
              "<Figure size 864x576 with 0 Axes>"
            ]
          },
          "metadata": {}
        },
        {
          "output_type": "display_data",
          "data": {
            "image/png": "[encoded data removed]",
            "text/plain": [
              "<Figure size 432x288 with 3 Axes>"
            ]
          },
          "metadata": {
            "needs_background": "light"
          }
        },
        {
          "output_type": "display_data",
          "data": {
            "image/png": "[encoded data removed]",
            "text/plain": [
              "<Figure size 432x288 with 3 Axes>"
            ]
          },
          "metadata": {
            "needs_background": "light"
          }
        }
      ],
      "source": [
        "#boxplot after treating the outliers\n",
        "plt.figure(figsize=(12,8))  # enlarge the figure\n",
        "num_vars = df.select_dtypes(include=\"float32\")\n",
        "half = np.ceil(num_vars.shape[1] / 2).astype(int)  # for cosmetic reasons we split the plots into two rows\n",
        "num_vars.iloc[:, 0:half].plot(kind = 'box', subplots=True);\n",
        "num_vars.iloc[:, half:num_vars.shape[1]].plot(kind = 'box', subplots=True);"
      ]
    },
    {
      "cell_type": "markdown",
      "metadata": {
        "id": "UL1_78pHfpGJ"
      },
      "source": [
        "### Multicollinearity check"
      ]
    },
    {
      "cell_type": "code",
      "execution_count": null,
      "metadata": {
        "colab": {
          "base_uri": "https://localhost:8080/"
        },
        "id": "1ZvxIhOVx5hV",
        "outputId": "50cda1c1-9253-4453-8ea0-55237a488a15"
      },
      "outputs": [
        {
          "output_type": "stream",
          "name": "stdout",
          "text": [
            "Requirement already satisfied: dython in /usr/local/lib/python3.7/dist-packages (0.7.0)\n",
            "Requirement already satisfied: scikit-plot>=0.3.7 in /usr/local/lib/python3.7/dist-packages (from dython) (0.3.7)\n",
            "Requirement already satisfied: seaborn>=0.11.0 in /usr/local/lib/python3.7/dist-packages (from dython) (0.11.2)\n",
            "Requirement already satisfied: scipy>=1.7.1 in /usr/local/lib/python3.7/dist-packages (from dython) (1.7.3)\n",
            "Requirement already satisfied: scikit-learn>=0.24.2 in /usr/local/lib/python3.7/dist-packages (from dython) (1.0.2)\n",
            "Requirement already satisfied: numpy>=1.19.5 in /usr/local/lib/python3.7/dist-packages (from dython) (1.21.5)\n",
            "Requirement already satisfied: pandas>=1.3.2 in /usr/local/lib/python3.7/dist-packages (from dython) (1.3.5)\n",
            "Requirement already satisfied: matplotlib>=3.4.3 in /usr/local/lib/python3.7/dist-packages (from dython) (3.5.1)\n",
            "Requirement already satisfied: kiwisolver>=1.0.1 in /usr/local/lib/python3.7/dist-packages (from matplotlib>=3.4.3->dython) (1.3.2)\n",
            "Requirement already satisfied: packaging>=20.0 in /usr/local/lib/python3.7/dist-packages (from matplotlib>=3.4.3->dython) (21.3)\n",
            "Requirement already satisfied: pyparsing>=2.2.1 in /usr/local/lib/python3.7/dist-packages (from matplotlib>=3.4.3->dython) (3.0.7)\n",
            "Requirement already satisfied: cycler>=0.10 in /usr/local/lib/python3.7/dist-packages (from matplotlib>=3.4.3->dython) (0.11.0)\n",
            "Requirement already satisfied: pillow>=6.2.0 in /usr/local/lib/python3.7/dist-packages (from matplotlib>=3.4.3->dython) (7.1.2)\n",
            "Requirement already satisfied: python-dateutil>=2.7 in /usr/local/lib/python3.7/dist-packages (from matplotlib>=3.4.3->dython) (2.8.2)\n",
            "Requirement already satisfied: fonttools>=4.22.0 in /usr/local/lib/python3.7/dist-packages (from matplotlib>=3.4.3->dython) (4.29.1)\n",
            "Requirement already satisfied: pytz>=2017.3 in /usr/local/lib/python3.7/dist-packages (from pandas>=1.3.2->dython) (2018.9)\n",
            "Requirement already satisfied: six>=1.5 in /usr/local/lib/python3.7/dist-packages (from python-dateutil>=2.7->matplotlib>=3.4.3->dython) (1.15.0)\n",
            "Requirement already satisfied: threadpoolctl>=2.0.0 in /usr/local/lib/python3.7/dist-packages (from scikit-learn>=0.24.2->dython) (3.1.0)\n",
            "Requirement already satisfied: joblib>=0.11 in /usr/local/lib/python3.7/dist-packages (from scikit-learn>=0.24.2->dython) (1.1.0)\n"
          ]
        }
      ],
      "source": [
        "pip install dython\n"
      ]
    },
    {
      "cell_type": "code",
      "execution_count": null,
      "metadata": {
        "id": "KNEQQDK8yIkC"
      },
      "outputs": [],
      "source": [
        "from dython.nominal import associations"
      ]
    },
    {
      "cell_type": "code",
      "execution_count": null,
      "metadata": {
        "id": "aN-DQajx91nl"
      },
      "outputs": [],
      "source": [
        "df = pd.get_dummies(df, columns = ['type'], drop_first=True)"
      ]
    },
    {
      "cell_type": "code",
      "execution_count": null,
      "metadata": {
        "colab": {
          "base_uri": "https://localhost:8080/",
          "height": 838
        },
        "id": "vk1ZsQzj-uRQ",
        "outputId": "2d6cc10d-bb73-4ed3-f1f2-041ad6ce0551"
      },
      "outputs": [
        {
          "output_type": "display_data",
          "data": {
            "image/png": "[encoded data removed]",
            "text/plain": [
              "<Figure size 864x576 with 2 Axes>"
            ]
          },
          "metadata": {
            "needs_background": "light"
          }
        },
        {
          "output_type": "execute_result",
          "data": {
            "text/plain": [
              "{'ax': <matplotlib.axes._subplots.AxesSubplot at 0x7f7dcd36cad0>,\n",
              " 'corr':                     step    amount  ...  type_PAYMENT  type_TRANSFER\n",
              " step            1.000000 -0.002539  ...      0.004927       0.006925\n",
              " amount         -0.002539  1.000000  ...     -0.518919       0.568388\n",
              " oldbalanceOrg  -0.013195  0.012276  ...     -0.177903      -0.117659\n",
              " newbalanceOrig -0.012529  0.025868  ...     -0.222564      -0.167727\n",
              " oldbalanceDest  0.005751  0.366827  ...     -0.455336       0.198863\n",
              " newbalanceDest  0.000395  0.464285  ...     -0.466532       0.292360\n",
              " isFraud         0.031564  0.061826  ...     -0.025696       0.053874\n",
              " isFlaggedFraud  0.003277  0.005165  ...     -0.001133       0.005245\n",
              " type_CASH_OUT  -0.012919  0.128501  ...     -0.526422      -0.222672\n",
              " type_DEBIT      0.002869 -0.062200  ...     -0.057868      -0.024478\n",
              " type_PAYMENT    0.004927 -0.518919  ...      1.000000      -0.216110\n",
              " type_TRANSFER   0.006925  0.568388  ...     -0.216110       1.000000\n",
              " \n",
              " [12 rows x 12 columns]}"
            ]
          },
          "metadata": {},
          "execution_count": 24
        }
      ],
      "source": [
        "associations(df.iloc[0:6362619,[0,1,3,4,6,7,8,9,10,11,12,13]],figsize = (12,8))"
      ]
    },
    {
      "cell_type": "markdown",
      "source": [
        "As we can see from the above associations plot that the associations are low to medium between the numerical features. These low to medium associations won't have a significant impact model's prediction power. Usually high  multi-collinearity among features has a severe impact on regression models. Although low to medium collinearlity(<0.5) among feature space does not pose a threat to model performance. \n",
        "Multicollinearity is problematic for estimation of the effects, for coefficients of the individual variables - hence, the problem with regression. So it can have some effect on logistic regression model, but it is highly unlikely to cause any issue on classification models, decision trees, random forest, gradient boosting, and so on. So we do not treat this insignificant association among variables."
      ],
      "metadata": {
        "id": "9UaA0rIWPRQL"
      }
    },
    {
      "cell_type": "code",
      "execution_count": null,
      "metadata": {
        "colab": {
          "base_uri": "https://localhost:8080/",
          "height": 270
        },
        "id": "pA69q_Rc-pHG",
        "outputId": "1f66479b-3613-4a3b-ae49-2800b26f90bd"
      },
      "outputs": [
        {
          "output_type": "execute_result",
          "data": {
            "text/html": [
              "\n",
              "  <div id=\"df-321a4a5b-26ba-4a0a-bf7c-78e63fb2dd97\">\n",
              "    <div class=\"colab-df-container\">\n",
              "      <div>\n",
              "<style scoped>\n",
              "    .dataframe tbody tr th:only-of-type {\n",
              "        vertical-align: middle;\n",
              "    }\n",
              "\n",
              "    .dataframe tbody tr th {\n",
              "        vertical-align: top;\n",
              "    }\n",
              "\n",
              "    .dataframe thead th {\n",
              "        text-align: right;\n",
              "    }\n",
              "</style>\n",
              "<table border=\"1\" class=\"dataframe\">\n",
              "  <thead>\n",
              "    <tr style=\"text-align: right;\">\n",
              "      <th></th>\n",
              "      <th>step</th>\n",
              "      <th>amount</th>\n",
              "      <th>nameOrig</th>\n",
              "      <th>oldbalanceOrg</th>\n",
              "      <th>newbalanceOrig</th>\n",
              "      <th>nameDest</th>\n",
              "      <th>oldbalanceDest</th>\n",
              "      <th>newbalanceDest</th>\n",
              "      <th>isFraud</th>\n",
              "      <th>isFlaggedFraud</th>\n",
              "      <th>type_CASH_OUT</th>\n",
              "      <th>type_DEBIT</th>\n",
              "      <th>type_PAYMENT</th>\n",
              "      <th>type_TRANSFER</th>\n",
              "    </tr>\n",
              "  </thead>\n",
              "  <tbody>\n",
              "    <tr>\n",
              "      <th>0</th>\n",
              "      <td>1.0</td>\n",
              "      <td>9839.639648</td>\n",
              "      <td>C1231006815</td>\n",
              "      <td>170136.0</td>\n",
              "      <td>160296.359375</td>\n",
              "      <td>M1979787155</td>\n",
              "      <td>0.0</td>\n",
              "      <td>0.0</td>\n",
              "      <td>False</td>\n",
              "      <td>False</td>\n",
              "      <td>0</td>\n",
              "      <td>0</td>\n",
              "      <td>1</td>\n",
              "      <td>0</td>\n",
              "    </tr>\n",
              "    <tr>\n",
              "      <th>1</th>\n",
              "      <td>1.0</td>\n",
              "      <td>1864.280029</td>\n",
              "      <td>C1666544295</td>\n",
              "      <td>21249.0</td>\n",
              "      <td>19384.720703</td>\n",
              "      <td>M2044282225</td>\n",
              "      <td>0.0</td>\n",
              "      <td>0.0</td>\n",
              "      <td>False</td>\n",
              "      <td>False</td>\n",
              "      <td>0</td>\n",
              "      <td>0</td>\n",
              "      <td>1</td>\n",
              "      <td>0</td>\n",
              "    </tr>\n",
              "    <tr>\n",
              "      <th>2</th>\n",
              "      <td>1.0</td>\n",
              "      <td>181.000000</td>\n",
              "      <td>C1305486145</td>\n",
              "      <td>181.0</td>\n",
              "      <td>0.000000</td>\n",
              "      <td>C553264065</td>\n",
              "      <td>0.0</td>\n",
              "      <td>0.0</td>\n",
              "      <td>True</td>\n",
              "      <td>False</td>\n",
              "      <td>0</td>\n",
              "      <td>0</td>\n",
              "      <td>0</td>\n",
              "      <td>1</td>\n",
              "    </tr>\n",
              "    <tr>\n",
              "      <th>3</th>\n",
              "      <td>1.0</td>\n",
              "      <td>181.000000</td>\n",
              "      <td>C840083671</td>\n",
              "      <td>181.0</td>\n",
              "      <td>0.000000</td>\n",
              "      <td>C38997010</td>\n",
              "      <td>21182.0</td>\n",
              "      <td>0.0</td>\n",
              "      <td>True</td>\n",
              "      <td>False</td>\n",
              "      <td>1</td>\n",
              "      <td>0</td>\n",
              "      <td>0</td>\n",
              "      <td>0</td>\n",
              "    </tr>\n",
              "    <tr>\n",
              "      <th>4</th>\n",
              "      <td>1.0</td>\n",
              "      <td>11668.139648</td>\n",
              "      <td>C2048537720</td>\n",
              "      <td>41554.0</td>\n",
              "      <td>29885.859375</td>\n",
              "      <td>M1230701703</td>\n",
              "      <td>0.0</td>\n",
              "      <td>0.0</td>\n",
              "      <td>False</td>\n",
              "      <td>False</td>\n",
              "      <td>0</td>\n",
              "      <td>0</td>\n",
              "      <td>1</td>\n",
              "      <td>0</td>\n",
              "    </tr>\n",
              "  </tbody>\n",
              "</table>\n",
              "</div>\n",
              "      <button class=\"colab-df-convert\" onclick=\"convertToInteractive('df-321a4a5b-26ba-4a0a-bf7c-78e63fb2dd97')\"\n",
              "              title=\"Convert this dataframe to an interactive table.\"\n",
              "              style=\"display:none;\">\n",
              "        \n",
              "  <svg xmlns=\"http://www.w3.org/2000/svg\" height=\"24px\"viewBox=\"0 0 24 24\"\n",
              "       width=\"24px\">\n",
              "    <path d=\"M0 0h24v24H0V0z\" fill=\"none\"/>\n",
              "    <path d=\"M18.56 5.44l.94 2.06.94-2.06 2.06-.94-2.06-.94-.94-2.06-.94 2.06-2.06.94zm-11 1L8.5 8.5l.94-2.06 2.06-.94-2.06-.94L8.5 2.5l-.94 2.06-2.06.94zm10 10l.94 2.06.94-2.06 2.06-.94-2.06-.94-.94-2.06-.94 2.06-2.06.94z\"/><path d=\"M17.41 7.96l-1.37-1.37c-.4-.4-.92-.59-1.43-.59-.52 0-1.04.2-1.43.59L10.3 9.45l-7.72 7.72c-.78.78-.78 2.05 0 2.83L4 21.41c.39.39.9.59 1.41.59.51 0 1.02-.2 1.41-.59l7.78-7.78 2.81-2.81c.8-.78.8-2.07 0-2.86zM5.41 20L4 18.59l7.72-7.72 1.47 1.35L5.41 20z\"/>\n",
              "  </svg>\n",
              "      </button>\n",
              "      \n",
              "  <style>\n",
              "    .colab-df-container {\n",
              "      display:flex;\n",
              "      flex-wrap:wrap;\n",
              "      gap: 12px;\n",
              "    }\n",
              "\n",
              "    .colab-df-convert {\n",
              "      background-color: #E8F0FE;\n",
              "      border: none;\n",
              "      border-radius: 50%;\n",
              "      cursor: pointer;\n",
              "      display: none;\n",
              "      fill: #1967D2;\n",
              "      height: 32px;\n",
              "      padding: 0 0 0 0;\n",
              "      width: 32px;\n",
              "    }\n",
              "\n",
              "    .colab-df-convert:hover {\n",
              "      background-color: #E2EBFA;\n",
              "      box-shadow: 0px 1px 2px rgba(60, 64, 67, 0.3), 0px 1px 3px 1px rgba(60, 64, 67, 0.15);\n",
              "      fill: #174EA6;\n",
              "    }\n",
              "\n",
              "    [theme=dark] .colab-df-convert {\n",
              "      background-color: #3B4455;\n",
              "      fill: #D2E3FC;\n",
              "    }\n",
              "\n",
              "    [theme=dark] .colab-df-convert:hover {\n",
              "      background-color: #434B5C;\n",
              "      box-shadow: 0px 1px 3px 1px rgba(0, 0, 0, 0.15);\n",
              "      filter: drop-shadow(0px 1px 2px rgba(0, 0, 0, 0.3));\n",
              "      fill: #FFFFFF;\n",
              "    }\n",
              "  </style>\n",
              "\n",
              "      <script>\n",
              "        const buttonEl =\n",
              "          document.querySelector('#df-321a4a5b-26ba-4a0a-bf7c-78e63fb2dd97 button.colab-df-convert');\n",
              "        buttonEl.style.display =\n",
              "          google.colab.kernel.accessAllowed ? 'block' : 'none';\n",
              "\n",
              "        async function convertToInteractive(key) {\n",
              "          const element = document.querySelector('#df-321a4a5b-26ba-4a0a-bf7c-78e63fb2dd97');\n",
              "          const dataTable =\n",
              "            await google.colab.kernel.invokeFunction('convertToInteractive',\n",
              "                                                     [key], {});\n",
              "          if (!dataTable) return;\n",
              "\n",
              "          const docLinkHtml = 'Like what you see? Visit the ' +\n",
              "            '<a target=\"_blank\" href=https://colab.research.google.com/notebooks/data_table.ipynb>data table notebook</a>'\n",
              "            + ' to learn more about interactive tables.';\n",
              "          element.innerHTML = '';\n",
              "          dataTable['output_type'] = 'display_data';\n",
              "          await google.colab.output.renderOutput(dataTable, element);\n",
              "          const docLink = document.createElement('div');\n",
              "          docLink.innerHTML = docLinkHtml;\n",
              "          element.appendChild(docLink);\n",
              "        }\n",
              "      </script>\n",
              "    </div>\n",
              "  </div>\n",
              "  "
            ],
            "text/plain": [
              "   step        amount     nameOrig  ...  type_DEBIT  type_PAYMENT type_TRANSFER\n",
              "0   1.0   9839.639648  C1231006815  ...           0             1             0\n",
              "1   1.0   1864.280029  C1666544295  ...           0             1             0\n",
              "2   1.0    181.000000  C1305486145  ...           0             0             1\n",
              "3   1.0    181.000000   C840083671  ...           0             0             0\n",
              "4   1.0  11668.139648  C2048537720  ...           0             1             0\n",
              "\n",
              "[5 rows x 14 columns]"
            ]
          },
          "metadata": {},
          "execution_count": 25
        }
      ],
      "source": [
        "df.head(n=5)"
      ]
    },
    {
      "cell_type": "markdown",
      "source": [
        "# Model Training"
      ],
      "metadata": {
        "id": "G0jTk5I9l6Zp"
      }
    },
    {
      "cell_type": "markdown",
      "metadata": {
        "id": "NAXAXLix6E9N"
      },
      "source": [
        "### Feature Selection"
      ]
    },
    {
      "cell_type": "code",
      "execution_count": null,
      "metadata": {
        "id": "l_SgCCBV9DZE"
      },
      "outputs": [],
      "source": [
        "# Extract target variable and feature matrix \n",
        "X = df.drop(['isFraud','nameOrig','nameDest'], axis=1) \n",
        "y = df[['isFraud']]\n",
        "X_train, X_test, y_train, y_test = train_test_split(X, y, test_size=.3)       "
      ]
    },
    {
      "cell_type": "code",
      "execution_count": null,
      "metadata": {
        "colab": {
          "base_uri": "https://localhost:8080/"
        },
        "id": "ByWaDRgk_7wQ",
        "outputId": "f7a15d59-a50b-45ca-c6dd-6f2f5a9e6740"
      },
      "outputs": [
        {
          "output_type": "execute_result",
          "data": {
            "text/plain": [
              "0.5352132621694579"
            ]
          },
          "metadata": {},
          "execution_count": 27
        }
      ],
      "source": [
        "from sklearn.linear_model import LogisticRegression # We will use sklearn here as it is required in the next algorithms\n",
        "from sklearn.metrics import roc_auc_score\n",
        "clf = LogisticRegression(random_state=888, max_iter=200)\n",
        "clf.fit(X_train,  np.ravel(y_train.values))\n",
        "y_pred = clf.predict(X_test)\n",
        "roc_auc_score(y_test, y_pred) "
      ]
    },
    {
      "cell_type": "code",
      "execution_count": null,
      "metadata": {
        "id": "JKsDKxjrvYHK"
      },
      "outputs": [],
      "source": [
        "class filter_binary_target:\n",
        "    def __init__(self, df, target):\n",
        "        self.target = target\n",
        "        self.data_head = df.head()\n",
        "\n",
        "    def auto_filter_binary_target(self):\n",
        "        print('Data must be in a clean pandas DataFrame. Categorical variables must be of data type bool or category. Continuous variables must be int64 or float64.')\n",
        "        data_no_target = df.drop(columns=self.target)\n",
        "        columns = ['Data Type', 'Metric', 'Score']\n",
        "        index = data_no_target.columns\n",
        "        result = pd.DataFrame(index=index, columns=columns)\n",
        "\n",
        "        for col in data_no_target:\n",
        "            if data_no_target.dtypes[col] == 'bool' or data_no_target.dtypes[col].name == 'category':\n",
        "                result.loc[col, 'Data Type'] = \"discrete\"\n",
        "                result.loc[col, 'Metric'] = \"IV\"\n",
        "                result.loc[col, 'Score'] = self.IV_binary_target(feature=col)\n",
        "\n",
        "            if data_no_target.dtypes[col] == 'int64' or data_no_target.dtypes[col] == 'float32':\n",
        "                result.loc[col, 'Data Type'] = \"continuous\"\n",
        "                result.loc[col, 'Metric'] = \"Fisher\"\n",
        "                result.loc[col, 'Score'] = self.fisher_binary_target(feature=col)\n",
        "\n",
        "        return result\n",
        "\n",
        "    def IV_binary_target(self, feature):  # same code as used above\n",
        "        data = pd.DataFrame()\n",
        "    \n",
        "        data['Count'] = df[feature].value_counts()\n",
        "        data['Bad'] = df.groupby([feature])[self.target].sum()\n",
        "        data['Good'] = data['Count'] - data['Bad']\n",
        "    \n",
        "        data[\"Distribution Bad\"] = data[\"Bad\"] / data[\"Bad\"].sum()\n",
        "        data[\"Distribution Good\"] = data[\"Good\"] / data[\"Good\"].sum()\n",
        "    \n",
        "        data['WOE'] = np.log(data[\"Distribution Good\"] / data[\"Distribution Bad\"])\n",
        "        data.replace({\"WOE\": {np.inf: 0, -np.inf: 0}})\n",
        "\n",
        "        data[\"IV\"] = data[\"WOE\"] * (data[\"Distribution Good\"] - data[\"Distribution Bad\"])\n",
        "\n",
        "        iv = data[\"IV\"].sum()\n",
        "\n",
        "        return iv\n",
        "\n",
        "    def fisher_binary_target(self, feature):\n",
        "        mu_0 = df.groupby(df[self.target])[feature].mean()[0]\n",
        "        mu_1 = df.groupby(df[self.target])[feature].mean()[1]\n",
        "        var_0 = df.groupby(df[self.target])[feature].var()[0]\n",
        "        var_1 = df.groupby(df[self.target])[feature].var()[1]\n",
        "\n",
        "        num = abs(mu_0 - mu_1)\n",
        "        den = (var_0 + var_1) ** 0.5\n",
        "        score = num/den\n",
        "    \n",
        "        return score\n",
        "\n",
        "    def pearson(self, feature):  # since our target is binary, we actually don't need this. However, if you would like to expand this class, you can use this code\n",
        "        mean_feature = df[feature].mean()\n",
        "        mean_target = df[self.target].mean()\n",
        "        num = ((df[feature] - mean_feature)*(df[self.target] - mean_target)).sum()\n",
        "        den = (((df[feature] - mean_feature)**2).sum() * ((df[self.target] - mean_target)**2).sum()) ** .5\n",
        "        rho = num/den\n",
        "        return rho"
      ]
    },
    {
      "cell_type": "code",
      "execution_count": null,
      "metadata": {
        "id": "TEVWtXfcvawa"
      },
      "outputs": [],
      "source": [
        "df['type_CASH_OUT'] = df['type_CASH_OUT'].astype('bool')\n",
        "df['type_DEBIT'] = df['type_DEBIT'].astype('bool')\n",
        "df['type_PAYMENT'] = df['type_PAYMENT'].astype('bool')\n",
        "df['type_TRANSFER'] = df['type_TRANSFER'].astype('bool')\n",
        "df_sel = df.drop(['isFraud','nameOrig','nameDest'], axis=1)\n",
        "filter = filter_binary_target(df=df_sel, target=\"isFraud\")"
      ]
    },
    {
      "cell_type": "code",
      "execution_count": null,
      "metadata": {
        "colab": {
          "base_uri": "https://localhost:8080/"
        },
        "id": "ih_C_TUzxjwl",
        "outputId": "e337afe4-7b05-411c-c25d-06d49c291d0e"
      },
      "outputs": [
        {
          "output_type": "stream",
          "name": "stdout",
          "text": [
            "<class 'pandas.core.frame.DataFrame'>\n",
            "RangeIndex: 6362620 entries, 0 to 6362619\n",
            "Data columns (total 11 columns):\n",
            " #   Column          Dtype  \n",
            "---  ------          -----  \n",
            " 0   step            float32\n",
            " 1   amount          float32\n",
            " 2   oldbalanceOrg   float32\n",
            " 3   newbalanceOrig  float32\n",
            " 4   oldbalanceDest  float32\n",
            " 5   newbalanceDest  float32\n",
            " 6   isFlaggedFraud  bool   \n",
            " 7   type_CASH_OUT   bool   \n",
            " 8   type_DEBIT      bool   \n",
            " 9   type_PAYMENT    bool   \n",
            " 10  type_TRANSFER   bool   \n",
            "dtypes: bool(5), float32(6)\n",
            "memory usage: 176.0 MB\n"
          ]
        }
      ],
      "source": [
        "df_sel.info()"
      ]
    },
    {
      "cell_type": "code",
      "execution_count": null,
      "metadata": {
        "colab": {
          "base_uri": "https://localhost:8080/",
          "height": 509
        },
        "id": "MhIKJNbZwpY_",
        "outputId": "85e28e95-51d3-4b0e-d704-2688b26e9753"
      },
      "outputs": [
        {
          "output_type": "stream",
          "name": "stdout",
          "text": [
            "Data must be in a clean pandas DataFrame. Categorical variables must be of data type bool or category. Continuous variables must be int64 or float64.\n"
          ]
        },
        {
          "output_type": "stream",
          "name": "stderr",
          "text": [
            "/usr/local/lib/python3.7/dist-packages/pandas/core/arraylike.py:364: RuntimeWarning: divide by zero encountered in log\n",
            "  result = getattr(ufunc, method)(*inputs, **kwargs)\n"
          ]
        },
        {
          "output_type": "execute_result",
          "data": {
            "text/html": [
              "\n",
              "  <div id=\"df-8112ae38-2b57-44fa-8d96-1fc40dc199c7\">\n",
              "    <div class=\"colab-df-container\">\n",
              "      <div>\n",
              "<style scoped>\n",
              "    .dataframe tbody tr th:only-of-type {\n",
              "        vertical-align: middle;\n",
              "    }\n",
              "\n",
              "    .dataframe tbody tr th {\n",
              "        vertical-align: top;\n",
              "    }\n",
              "\n",
              "    .dataframe thead th {\n",
              "        text-align: right;\n",
              "    }\n",
              "</style>\n",
              "<table border=\"1\" class=\"dataframe\">\n",
              "  <thead>\n",
              "    <tr style=\"text-align: right;\">\n",
              "      <th></th>\n",
              "      <th>Data Type</th>\n",
              "      <th>Metric</th>\n",
              "      <th>Score</th>\n",
              "    </tr>\n",
              "  </thead>\n",
              "  <tbody>\n",
              "    <tr>\n",
              "      <th>step</th>\n",
              "      <td>continuous</td>\n",
              "      <td>Fisher</td>\n",
              "      <td>0.483505</td>\n",
              "    </tr>\n",
              "    <tr>\n",
              "      <th>amount</th>\n",
              "      <td>continuous</td>\n",
              "      <td>Fisher</td>\n",
              "      <td>0.850956</td>\n",
              "    </tr>\n",
              "    <tr>\n",
              "      <th>nameOrig</th>\n",
              "      <td>NaN</td>\n",
              "      <td>NaN</td>\n",
              "      <td>NaN</td>\n",
              "    </tr>\n",
              "    <tr>\n",
              "      <th>oldbalanceOrg</th>\n",
              "      <td>continuous</td>\n",
              "      <td>Fisher</td>\n",
              "      <td>0.868134</td>\n",
              "    </tr>\n",
              "    <tr>\n",
              "      <th>newbalanceOrig</th>\n",
              "      <td>continuous</td>\n",
              "      <td>Fisher</td>\n",
              "      <td>0.498024</td>\n",
              "    </tr>\n",
              "    <tr>\n",
              "      <th>nameDest</th>\n",
              "      <td>NaN</td>\n",
              "      <td>NaN</td>\n",
              "      <td>NaN</td>\n",
              "    </tr>\n",
              "    <tr>\n",
              "      <th>oldbalanceDest</th>\n",
              "      <td>continuous</td>\n",
              "      <td>Fisher</td>\n",
              "      <td>0.271064</td>\n",
              "    </tr>\n",
              "    <tr>\n",
              "      <th>newbalanceDest</th>\n",
              "      <td>continuous</td>\n",
              "      <td>Fisher</td>\n",
              "      <td>0.001466</td>\n",
              "    </tr>\n",
              "    <tr>\n",
              "      <th>isFlaggedFraud</th>\n",
              "      <td>discrete</td>\n",
              "      <td>IV</td>\n",
              "      <td>inf</td>\n",
              "    </tr>\n",
              "    <tr>\n",
              "      <th>type_CASH_OUT</th>\n",
              "      <td>discrete</td>\n",
              "      <td>IV</td>\n",
              "      <td>0.092388</td>\n",
              "    </tr>\n",
              "    <tr>\n",
              "      <th>type_DEBIT</th>\n",
              "      <td>discrete</td>\n",
              "      <td>IV</td>\n",
              "      <td>inf</td>\n",
              "    </tr>\n",
              "    <tr>\n",
              "      <th>type_PAYMENT</th>\n",
              "      <td>discrete</td>\n",
              "      <td>IV</td>\n",
              "      <td>inf</td>\n",
              "    </tr>\n",
              "    <tr>\n",
              "      <th>type_TRANSFER</th>\n",
              "      <td>discrete</td>\n",
              "      <td>IV</td>\n",
              "      <td>0.995317</td>\n",
              "    </tr>\n",
              "  </tbody>\n",
              "</table>\n",
              "</div>\n",
              "      <button class=\"colab-df-convert\" onclick=\"convertToInteractive('df-8112ae38-2b57-44fa-8d96-1fc40dc199c7')\"\n",
              "              title=\"Convert this dataframe to an interactive table.\"\n",
              "              style=\"display:none;\">\n",
              "        \n",
              "  <svg xmlns=\"http://www.w3.org/2000/svg\" height=\"24px\"viewBox=\"0 0 24 24\"\n",
              "       width=\"24px\">\n",
              "    <path d=\"M0 0h24v24H0V0z\" fill=\"none\"/>\n",
              "    <path d=\"M18.56 5.44l.94 2.06.94-2.06 2.06-.94-2.06-.94-.94-2.06-.94 2.06-2.06.94zm-11 1L8.5 8.5l.94-2.06 2.06-.94-2.06-.94L8.5 2.5l-.94 2.06-2.06.94zm10 10l.94 2.06.94-2.06 2.06-.94-2.06-.94-.94-2.06-.94 2.06-2.06.94z\"/><path d=\"M17.41 7.96l-1.37-1.37c-.4-.4-.92-.59-1.43-.59-.52 0-1.04.2-1.43.59L10.3 9.45l-7.72 7.72c-.78.78-.78 2.05 0 2.83L4 21.41c.39.39.9.59 1.41.59.51 0 1.02-.2 1.41-.59l7.78-7.78 2.81-2.81c.8-.78.8-2.07 0-2.86zM5.41 20L4 18.59l7.72-7.72 1.47 1.35L5.41 20z\"/>\n",
              "  </svg>\n",
              "      </button>\n",
              "      \n",
              "  <style>\n",
              "    .colab-df-container {\n",
              "      display:flex;\n",
              "      flex-wrap:wrap;\n",
              "      gap: 12px;\n",
              "    }\n",
              "\n",
              "    .colab-df-convert {\n",
              "      background-color: #E8F0FE;\n",
              "      border: none;\n",
              "      border-radius: 50%;\n",
              "      cursor: pointer;\n",
              "      display: none;\n",
              "      fill: #1967D2;\n",
              "      height: 32px;\n",
              "      padding: 0 0 0 0;\n",
              "      width: 32px;\n",
              "    }\n",
              "\n",
              "    .colab-df-convert:hover {\n",
              "      background-color: #E2EBFA;\n",
              "      box-shadow: 0px 1px 2px rgba(60, 64, 67, 0.3), 0px 1px 3px 1px rgba(60, 64, 67, 0.15);\n",
              "      fill: #174EA6;\n",
              "    }\n",
              "\n",
              "    [theme=dark] .colab-df-convert {\n",
              "      background-color: #3B4455;\n",
              "      fill: #D2E3FC;\n",
              "    }\n",
              "\n",
              "    [theme=dark] .colab-df-convert:hover {\n",
              "      background-color: #434B5C;\n",
              "      box-shadow: 0px 1px 3px 1px rgba(0, 0, 0, 0.15);\n",
              "      filter: drop-shadow(0px 1px 2px rgba(0, 0, 0, 0.3));\n",
              "      fill: #FFFFFF;\n",
              "    }\n",
              "  </style>\n",
              "\n",
              "      <script>\n",
              "        const buttonEl =\n",
              "          document.querySelector('#df-8112ae38-2b57-44fa-8d96-1fc40dc199c7 button.colab-df-convert');\n",
              "        buttonEl.style.display =\n",
              "          google.colab.kernel.accessAllowed ? 'block' : 'none';\n",
              "\n",
              "        async function convertToInteractive(key) {\n",
              "          const element = document.querySelector('#df-8112ae38-2b57-44fa-8d96-1fc40dc199c7');\n",
              "          const dataTable =\n",
              "            await google.colab.kernel.invokeFunction('convertToInteractive',\n",
              "                                                     [key], {});\n",
              "          if (!dataTable) return;\n",
              "\n",
              "          const docLinkHtml = 'Like what you see? Visit the ' +\n",
              "            '<a target=\"_blank\" href=https://colab.research.google.com/notebooks/data_table.ipynb>data table notebook</a>'\n",
              "            + ' to learn more about interactive tables.';\n",
              "          element.innerHTML = '';\n",
              "          dataTable['output_type'] = 'display_data';\n",
              "          await google.colab.output.renderOutput(dataTable, element);\n",
              "          const docLink = document.createElement('div');\n",
              "          docLink.innerHTML = docLinkHtml;\n",
              "          element.appendChild(docLink);\n",
              "        }\n",
              "      </script>\n",
              "    </div>\n",
              "  </div>\n",
              "  "
            ],
            "text/plain": [
              "                 Data Type  Metric     Score\n",
              "step            continuous  Fisher  0.483505\n",
              "amount          continuous  Fisher  0.850956\n",
              "nameOrig               NaN     NaN       NaN\n",
              "oldbalanceOrg   continuous  Fisher  0.868134\n",
              "newbalanceOrig  continuous  Fisher  0.498024\n",
              "nameDest               NaN     NaN       NaN\n",
              "oldbalanceDest  continuous  Fisher  0.271064\n",
              "newbalanceDest  continuous  Fisher  0.001466\n",
              "isFlaggedFraud    discrete      IV       inf\n",
              "type_CASH_OUT     discrete      IV  0.092388\n",
              "type_DEBIT        discrete      IV       inf\n",
              "type_PAYMENT      discrete      IV       inf\n",
              "type_TRANSFER     discrete      IV  0.995317"
            ]
          },
          "metadata": {},
          "execution_count": 31
        }
      ],
      "source": [
        "filter.auto_filter_binary_target()"
      ]
    },
    {
      "cell_type": "markdown",
      "metadata": {
        "id": "taRcXQSM4mnF"
      },
      "source": [
        "From the above correlation of feature variables with binary target variable, we obtain Fisher score and Information value. We cannot directly compare IV and Fisher scores but we can judge them relative to other variables calculated with the same score. It can be seen that oldbalanceDest and newbalanceDestare low on Fischer scale. So it might be useful to not include them in the data modeling. Looking at the IV scale given below, we can see that type_CASH_OUT is having weak predictive power. And type_TRANSFER has susppiciously high predictive power. We would like to keep them in the model for now. \n",
        "We could have "
      ]
    },
    {
      "cell_type": "code",
      "execution_count": null,
      "metadata": {
        "colab": {
          "base_uri": "https://localhost:8080/"
        },
        "id": "Lz9GHB6Ozy13",
        "outputId": "3d93d9c5-91ba-47e6-d8e9-2405dc43801a"
      },
      "outputs": [
        {
          "output_type": "execute_result",
          "data": {
            "text/plain": [
              "False    6362604\n",
              "True          16\n",
              "Name: isFlaggedFraud, dtype: int64"
            ]
          },
          "metadata": {},
          "execution_count": 32
        }
      ],
      "source": [
        "df_sel.isFlaggedFraud.value_counts()"
      ]
    },
    {
      "cell_type": "code",
      "execution_count": null,
      "metadata": {
        "colab": {
          "base_uri": "https://localhost:8080/"
        },
        "id": "S6qtf7Vuzfc_",
        "outputId": "4f0b6520-7e5a-4909-f2bd-d86aaf683071"
      },
      "outputs": [
        {
          "output_type": "execute_result",
          "data": {
            "text/plain": [
              "False    6321188\n",
              "True       41432\n",
              "Name: type_DEBIT, dtype: int64"
            ]
          },
          "metadata": {},
          "execution_count": 33
        }
      ],
      "source": [
        "df_sel.type_DEBIT.value_counts()"
      ]
    },
    {
      "cell_type": "markdown",
      "metadata": {
        "id": "kIPxE0Zd21Ox"
      },
      "source": [
        "#### Testing Feature Selection"
      ]
    },
    {
      "cell_type": "markdown",
      "metadata": {
        "id": "mt0Y4kDp28yY"
      },
      "source": [
        "Let's use a Logistic regression model to compare the predictive performance of the model containing the entire feature space with the model that excludes the features \"oldbalanceDest\" and \"newbalanceDest\" from it's feature space. The performance measured used is AUC. "
      ]
    },
    {
      "cell_type": "code",
      "execution_count": null,
      "metadata": {
        "colab": {
          "base_uri": "https://localhost:8080/"
        },
        "id": "hmT4_TQh25Aj",
        "outputId": "13c991c4-fb54-4843-b108-a49630206a6b"
      },
      "outputs": [
        {
          "output_type": "stream",
          "name": "stdout",
          "text": [
            "<class 'pandas.core.frame.DataFrame'>\n",
            "RangeIndex: 6362620 entries, 0 to 6362619\n",
            "Data columns (total 14 columns):\n",
            " #   Column          Dtype  \n",
            "---  ------          -----  \n",
            " 0   step            float32\n",
            " 1   amount          float32\n",
            " 2   nameOrig        string \n",
            " 3   oldbalanceOrg   float32\n",
            " 4   newbalanceOrig  float32\n",
            " 5   nameDest        string \n",
            " 6   oldbalanceDest  float32\n",
            " 7   newbalanceDest  float32\n",
            " 8   isFraud         bool   \n",
            " 9   isFlaggedFraud  bool   \n",
            " 10  type_CASH_OUT   bool   \n",
            " 11  type_DEBIT      bool   \n",
            " 12  type_PAYMENT    bool   \n",
            " 13  type_TRANSFER   bool   \n",
            "dtypes: bool(6), float32(6), string(2)\n",
            "memory usage: 279.1 MB\n"
          ]
        }
      ],
      "source": [
        "df.info()"
      ]
    },
    {
      "cell_type": "code",
      "execution_count": null,
      "metadata": {
        "id": "YlARhSrt4NrY"
      },
      "outputs": [],
      "source": [
        "X = df.drop(['isFraud','nameOrig','nameDest','oldbalanceDest','newbalanceDest'], axis=1) \n",
        "y = df[['isFraud']]\n",
        "X_train_feature_test, X_test_feature_test, y_train_feature_test, y_test_feature_test = train_test_split(X, y, test_size=.3)    "
      ]
    },
    {
      "cell_type": "code",
      "execution_count": null,
      "metadata": {
        "colab": {
          "base_uri": "https://localhost:8080/"
        },
        "id": "4VC5xwcDRlq1",
        "outputId": "11bba2da-aeff-4094-b14f-c3588fd721f8"
      },
      "outputs": [
        {
          "output_type": "execute_result",
          "data": {
            "text/plain": [
              "0.5311258278124382"
            ]
          },
          "metadata": {},
          "execution_count": 36
        }
      ],
      "source": [
        "from sklearn.linear_model import LogisticRegression\n",
        "clf = LogisticRegression(random_state=888, max_iter=200)\n",
        "clf.fit(X_train_feature_test,  np.ravel(y_train_feature_test.values))\n",
        "y_pred = clf.predict(X_test_feature_test)\n",
        "roc_auc_score(y_test_feature_test, y_pred)"
      ]
    },
    {
      "cell_type": "code",
      "execution_count": null,
      "metadata": {
        "id": "M1_kndT5TQwN"
      },
      "outputs": [],
      "source": [
        "X_1 = df.drop(['isFraud','nameOrig','nameDest'], axis=1) \n",
        "y_1 = df[['isFraud']]\n",
        "X_train, X_test, y_train, y_test = train_test_split(X_1, y_1, test_size=.3) "
      ]
    },
    {
      "cell_type": "code",
      "execution_count": null,
      "metadata": {
        "colab": {
          "base_uri": "https://localhost:8080/"
        },
        "id": "t8V-73svTuX6",
        "outputId": "16982fe9-1fd3-4029-a0b8-8deaa2c20ee9"
      },
      "outputs": [
        {
          "output_type": "execute_result",
          "data": {
            "text/plain": [
              "0.5409431343964635"
            ]
          },
          "metadata": {},
          "execution_count": 38
        }
      ],
      "source": [
        "clf = LogisticRegression(random_state=888, max_iter=200)\n",
        "clf.fit(X_train,  np.ravel(y_train.values))\n",
        "y_pred_1 = clf.predict(X_test)\n",
        "roc_auc_score(y_test, y_pred_1)"
      ]
    },
    {
      "cell_type": "markdown",
      "metadata": {
        "id": "RxZKxoPZaFaF"
      },
      "source": [
        "We can see that removing features improves the logit model and so we will keep working with the feature space that excludes \"oldbalanceDest\" and \"newbalanceDest\"."
      ]
    },
    {
      "cell_type": "markdown",
      "metadata": {
        "id": "jZ7SwXJn2kD3"
      },
      "source": [
        "#Testing predictive power based of the model based on dummy data and WOE data\n"
      ]
    },
    {
      "cell_type": "markdown",
      "metadata": {
        "id": "S8RFlQcX8VeH"
      },
      "source": [
        "### WOE(Weight of Evidence)"
      ]
    },
    {
      "cell_type": "code",
      "execution_count": null,
      "metadata": {
        "colab": {
          "base_uri": "https://localhost:8080/"
        },
        "id": "A24r3aek7Yho",
        "outputId": "314c3420-984b-41d6-a7cc-49807bc4f3a2"
      },
      "outputs": [
        {
          "output_type": "stream",
          "name": "stdout",
          "text": [
            "Collecting scorecardpy\n",
            "  Downloading scorecardpy-0.1.9.2.tar.gz (55 kB)\n",
            "\u001b[?25l\r\u001b[K     |██████                          | 10 kB 23.1 MB/s eta 0:00:01\r\u001b[K     |███████████▉                    | 20 kB 27.5 MB/s eta 0:00:01\r\u001b[K     |█████████████████▊              | 30 kB 31.7 MB/s eta 0:00:01\r\u001b[K     |███████████████████████▋        | 40 kB 29.6 MB/s eta 0:00:01\r\u001b[K     |█████████████████████████████▌  | 51 kB 32.2 MB/s eta 0:00:01\r\u001b[K     |████████████████████████████████| 55 kB 3.1 MB/s \n",
            "\u001b[?25hRequirement already satisfied: numpy in /usr/local/lib/python3.7/dist-packages (from scorecardpy) (1.21.5)\n",
            "Requirement already satisfied: pandas>=0.25.0 in /usr/local/lib/python3.7/dist-packages (from scorecardpy) (1.3.5)\n",
            "Requirement already satisfied: matplotlib in /usr/local/lib/python3.7/dist-packages (from scorecardpy) (3.5.1)\n",
            "Requirement already satisfied: scikit-learn>=0.19.1 in /usr/local/lib/python3.7/dist-packages (from scorecardpy) (1.0.2)\n",
            "Requirement already satisfied: python-dateutil>=2.7.3 in /usr/local/lib/python3.7/dist-packages (from pandas>=0.25.0->scorecardpy) (2.8.2)\n",
            "Requirement already satisfied: pytz>=2017.3 in /usr/local/lib/python3.7/dist-packages (from pandas>=0.25.0->scorecardpy) (2018.9)\n",
            "Requirement already satisfied: six>=1.5 in /usr/local/lib/python3.7/dist-packages (from python-dateutil>=2.7.3->pandas>=0.25.0->scorecardpy) (1.15.0)\n",
            "Requirement already satisfied: joblib>=0.11 in /usr/local/lib/python3.7/dist-packages (from scikit-learn>=0.19.1->scorecardpy) (1.1.0)\n",
            "Requirement already satisfied: scipy>=1.1.0 in /usr/local/lib/python3.7/dist-packages (from scikit-learn>=0.19.1->scorecardpy) (1.7.3)\n",
            "Requirement already satisfied: threadpoolctl>=2.0.0 in /usr/local/lib/python3.7/dist-packages (from scikit-learn>=0.19.1->scorecardpy) (3.1.0)\n",
            "Requirement already satisfied: kiwisolver>=1.0.1 in /usr/local/lib/python3.7/dist-packages (from matplotlib->scorecardpy) (1.3.2)\n",
            "Requirement already satisfied: fonttools>=4.22.0 in /usr/local/lib/python3.7/dist-packages (from matplotlib->scorecardpy) (4.29.1)\n",
            "Requirement already satisfied: packaging>=20.0 in /usr/local/lib/python3.7/dist-packages (from matplotlib->scorecardpy) (21.3)\n",
            "Requirement already satisfied: pyparsing>=2.2.1 in /usr/local/lib/python3.7/dist-packages (from matplotlib->scorecardpy) (3.0.7)\n",
            "Requirement already satisfied: cycler>=0.10 in /usr/local/lib/python3.7/dist-packages (from matplotlib->scorecardpy) (0.11.0)\n",
            "Requirement already satisfied: pillow>=6.2.0 in /usr/local/lib/python3.7/dist-packages (from matplotlib->scorecardpy) (7.1.2)\n",
            "Building wheels for collected packages: scorecardpy\n",
            "  Building wheel for scorecardpy (setup.py) ... \u001b[?25l\u001b[?25hdone\n",
            "  Created wheel for scorecardpy: filename=scorecardpy-0.1.9.2-py3-none-any.whl size=57843 sha256=4d9b607e01ad1b04530de896c882ffb4c9716eccf80ec31751c699db8705986a\n",
            "  Stored in directory: /root/.cache/pip/wheels/9d/50/52/715367c478fd2e2317070ccf6539b2c29fc8168144cfbfaeac\n",
            "Successfully built scorecardpy\n",
            "Installing collected packages: scorecardpy\n",
            "Successfully installed scorecardpy-0.1.9.2\n"
          ]
        }
      ],
      "source": [
        "!pip install scorecardpy\n",
        "import scorecardpy as sc"
      ]
    },
    {
      "cell_type": "code",
      "execution_count": null,
      "metadata": {
        "id": "Z2fLl2Ml8a7i"
      },
      "outputs": [],
      "source": [
        "# Extract target variable and feature matrix \n",
        "X_woe = df_copy.drop(['isFraud','nameOrig','nameDest'], axis=1) \n",
        "y_woe = df_copy[['isFraud']]\n",
        "X_train_woe, X_test_woe, y_train_woe, y_test_woe = train_test_split(X_woe, y_woe, test_size=.3)    \n",
        "train_df = pd.concat([X_train_woe, y_train_woe], axis=1, join=\"inner\")"
      ]
    },
    {
      "cell_type": "code",
      "execution_count": null,
      "metadata": {
        "colab": {
          "base_uri": "https://localhost:8080/"
        },
        "id": "iPACx3CgeCur",
        "outputId": "6a71c9fb-a023-4cbb-e8ce-3062b7f9d49a"
      },
      "outputs": [
        {
          "output_type": "execute_result",
          "data": {
            "text/plain": [
              "((4453834, 8), (1908786, 8), (4453834, 1), (1908786, 1))"
            ]
          },
          "metadata": {},
          "execution_count": 41
        }
      ],
      "source": [
        "X_train_woe.shape,X_test_woe.shape,y_train_woe.shape,y_test_woe.shape"
      ]
    },
    {
      "cell_type": "code",
      "execution_count": null,
      "metadata": {
        "colab": {
          "base_uri": "https://localhost:8080/",
          "height": 334
        },
        "id": "5VzN6yFN7ecB",
        "outputId": "2cc1b766-7c77-4a17-c634-5ac5972265e7"
      },
      "outputs": [
        {
          "output_type": "stream",
          "name": "stdout",
          "text": [
            "[INFO] creating woe binning ...\n",
            "Binning on 4453834 rows and 2 columns in 00:00:50\n"
          ]
        },
        {
          "output_type": "execute_result",
          "data": {
            "text/plain": [
              "{'type': <Figure size 432x288 with 2 Axes>}"
            ]
          },
          "metadata": {},
          "execution_count": 42
        },
        {
          "output_type": "display_data",
          "data": {
            "image/png": "[encoded data removed]",
            "text/plain": [
              "<Figure size 432x288 with 2 Axes>"
            ]
          },
          "metadata": {
            "needs_background": "light"
          }
        }
      ],
      "source": [
        "bins = sc.woebin(train_df, y=\"isFraud\", x='type')\n",
        "\n",
        "sc.woebin_plot(bins)"
      ]
    },
    {
      "cell_type": "code",
      "execution_count": null,
      "metadata": {
        "colab": {
          "base_uri": "https://localhost:8080/"
        },
        "id": "sZJoBEk17gwP",
        "outputId": "c5012c51-7e97-4490-9408-e141dea4f4dd"
      },
      "outputs": [
        {
          "output_type": "stream",
          "name": "stdout",
          "text": [
            "[INFO] converting into woe values ...\n"
          ]
        },
        {
          "output_type": "stream",
          "name": "stderr",
          "text": [
            "/usr/local/lib/python3.7/dist-packages/pandas/core/indexing.py:1951: SettingWithCopyWarning: \n",
            "A value is trying to be set on a copy of a slice from a DataFrame.\n",
            "Try using .loc[row_indexer,col_indexer] = value instead\n",
            "\n",
            "See the caveats in the documentation: https://pandas.pydata.org/pandas-docs/stable/user_guide/indexing.html#returning-a-view-versus-a-copy\n",
            "  self.obj[selected_item_labels] = value\n"
          ]
        },
        {
          "output_type": "stream",
          "name": "stdout",
          "text": [
            "Woe transformating on 4453834 rows and 1 columns in 00:01:10\n"
          ]
        }
      ],
      "source": [
        "X_train_woe_1 = sc.woebin_ply(X_train_woe, bins) "
      ]
    },
    {
      "cell_type": "code",
      "execution_count": null,
      "metadata": {
        "colab": {
          "base_uri": "https://localhost:8080/"
        },
        "id": "QnIui3Hphxap",
        "outputId": "0310935f-16c2-4f1d-a811-3beb15fef04c"
      },
      "outputs": [
        {
          "output_type": "stream",
          "name": "stdout",
          "text": [
            "<class 'pandas.core.frame.DataFrame'>\n",
            "Int64Index: 4453834 entries, 0 to 6362619\n",
            "Data columns (total 8 columns):\n",
            " #   Column          Dtype  \n",
            "---  ------          -----  \n",
            " 0   oldbalanceDest  float32\n",
            " 1   newbalanceOrig  float32\n",
            " 2   amount          float32\n",
            " 3   step            float32\n",
            " 4   isFlaggedFraud  bool   \n",
            " 5   oldbalanceOrg   float32\n",
            " 6   newbalanceDest  float32\n",
            " 7   type_woe        float64\n",
            "dtypes: bool(1), float32(6), float64(1)\n",
            "memory usage: 174.1 MB\n"
          ]
        }
      ],
      "source": [
        "X_train_woe_1.info()"
      ]
    },
    {
      "cell_type": "code",
      "execution_count": null,
      "metadata": {
        "colab": {
          "base_uri": "https://localhost:8080/"
        },
        "id": "403GCTzJ6mkr",
        "outputId": "a4e42395-a6b9-4aae-b0c4-47e62111729e"
      },
      "outputs": [
        {
          "output_type": "stream",
          "name": "stdout",
          "text": [
            "[INFO] converting into woe values ...\n"
          ]
        },
        {
          "output_type": "stream",
          "name": "stderr",
          "text": [
            "/usr/local/lib/python3.7/dist-packages/pandas/core/indexing.py:1951: SettingWithCopyWarning: \n",
            "A value is trying to be set on a copy of a slice from a DataFrame.\n",
            "Try using .loc[row_indexer,col_indexer] = value instead\n",
            "\n",
            "See the caveats in the documentation: https://pandas.pydata.org/pandas-docs/stable/user_guide/indexing.html#returning-a-view-versus-a-copy\n",
            "  self.obj[selected_item_labels] = value\n"
          ]
        },
        {
          "output_type": "stream",
          "name": "stdout",
          "text": [
            "Woe transformating on 1908786 rows and 1 columns in 00:00:35\n"
          ]
        }
      ],
      "source": [
        "X_test_woe = sc.woebin_ply(X_test_woe, bins)\n",
        "\n"
      ]
    },
    {
      "cell_type": "code",
      "execution_count": null,
      "metadata": {
        "colab": {
          "base_uri": "https://localhost:8080/"
        },
        "id": "0ogW44ICiOR7",
        "outputId": "f01d5d15-a8a0-43fa-bdbf-919769c6541b"
      },
      "outputs": [
        {
          "output_type": "stream",
          "name": "stdout",
          "text": [
            "<class 'pandas.core.frame.DataFrame'>\n",
            "Int64Index: 1908786 entries, 8 to 6362611\n",
            "Data columns (total 8 columns):\n",
            " #   Column          Dtype  \n",
            "---  ------          -----  \n",
            " 0   oldbalanceDest  float32\n",
            " 1   newbalanceOrig  float32\n",
            " 2   amount          float32\n",
            " 3   step            float32\n",
            " 4   isFlaggedFraud  bool   \n",
            " 5   oldbalanceOrg   float32\n",
            " 6   newbalanceDest  float32\n",
            " 7   type_woe        float64\n",
            "dtypes: bool(1), float32(6), float64(1)\n",
            "memory usage: 74.6 MB\n"
          ]
        }
      ],
      "source": [
        "X_test_woe.info()"
      ]
    },
    {
      "cell_type": "code",
      "execution_count": null,
      "metadata": {
        "colab": {
          "base_uri": "https://localhost:8080/"
        },
        "id": "nCkQlqFmcV7L",
        "outputId": "280074bf-7cd3-4e22-e36c-d8c077272c01"
      },
      "outputs": [
        {
          "output_type": "execute_result",
          "data": {
            "text/plain": [
              "0.5"
            ]
          },
          "metadata": {},
          "execution_count": 47
        }
      ],
      "source": [
        "clf = LogisticRegression(random_state=888, max_iter=200)\n",
        "clf.fit(X_train_woe_1,  np.ravel(y_train))\n",
        "y_pred_woe = clf.predict(X_test_woe)\n",
        "roc_auc_score(y_test, y_pred_woe)"
      ]
    },
    {
      "cell_type": "code",
      "execution_count": null,
      "metadata": {
        "id": "_o_zC_ktloWc"
      },
      "outputs": [],
      "source": [
        "X_train_woe_1 = X_train_woe_1.drop(['oldbalanceDest','newbalanceDest'],axis = 1)\n"
      ]
    },
    {
      "cell_type": "code",
      "execution_count": null,
      "metadata": {
        "id": "oJ3dA6U9nKY3"
      },
      "outputs": [],
      "source": [
        "X_test_woe = X_test_woe.drop(['oldbalanceDest','newbalanceDest'],axis = 1)"
      ]
    },
    {
      "cell_type": "code",
      "execution_count": null,
      "metadata": {
        "colab": {
          "base_uri": "https://localhost:8080/"
        },
        "id": "WB-b1aKhnuaa",
        "outputId": "640431a3-8359-4806-e341-585ab6efcbd0"
      },
      "outputs": [
        {
          "output_type": "execute_result",
          "data": {
            "text/plain": [
              "0.5"
            ]
          },
          "metadata": {},
          "execution_count": 50
        }
      ],
      "source": [
        "clf = LogisticRegression(random_state=888, max_iter=200)\n",
        "clf.fit(X_train_woe_1,  np.ravel(y_train))\n",
        "y_pred_woe = clf.predict(X_test_woe)\n",
        "roc_auc_score(y_test, y_pred_woe)"
      ]
    },
    {
      "cell_type": "markdown",
      "metadata": {
        "id": "YE1XaIK5t1Xd"
      },
      "source": [
        "We can see that predictive power of model with dummy variables is higher than that of Weight of Evidence model."
      ]
    },
    {
      "cell_type": "markdown",
      "metadata": {
        "id": "pQRbpdttxAn2"
      },
      "source": [
        "### Testing model on standardized data"
      ]
    },
    {
      "cell_type": "code",
      "execution_count": null,
      "metadata": {
        "colab": {
          "base_uri": "https://localhost:8080/"
        },
        "id": "HvFqOWQiyk88",
        "outputId": "e8f52466-8df3-45fd-dd3b-089df9d628cd"
      },
      "outputs": [
        {
          "output_type": "stream",
          "name": "stdout",
          "text": [
            "<class 'pandas.core.frame.DataFrame'>\n",
            "RangeIndex: 6362620 entries, 0 to 6362619\n",
            "Data columns (total 14 columns):\n",
            " #   Column          Dtype  \n",
            "---  ------          -----  \n",
            " 0   step            float32\n",
            " 1   amount          float32\n",
            " 2   nameOrig        string \n",
            " 3   oldbalanceOrg   float32\n",
            " 4   newbalanceOrig  float32\n",
            " 5   nameDest        string \n",
            " 6   oldbalanceDest  float32\n",
            " 7   newbalanceDest  float32\n",
            " 8   isFraud         bool   \n",
            " 9   isFlaggedFraud  bool   \n",
            " 10  type_CASH_OUT   bool   \n",
            " 11  type_DEBIT      bool   \n",
            " 12  type_PAYMENT    bool   \n",
            " 13  type_TRANSFER   bool   \n",
            "dtypes: bool(6), float32(6), string(2)\n",
            "memory usage: 279.1 MB\n"
          ]
        }
      ],
      "source": [
        "df.info()"
      ]
    },
    {
      "cell_type": "code",
      "execution_count": null,
      "metadata": {
        "id": "D197J-5SxGs7"
      },
      "outputs": [],
      "source": [
        "from sklearn.preprocessing import StandardScaler\n",
        "standardscaler = StandardScaler()\n",
        "numeric_cols = list(df.drop(['nameOrig','nameDest','isFraud'],axis = 1).columns)\n",
        "\n",
        "standard = StandardScaler()\n",
        "\n",
        "X_train_scaled = X_train.copy()\n",
        "X_test_scaled = X_test.copy()\n",
        "\n",
        "X_train_scaled[numeric_cols] = standard.fit_transform(X_train_scaled[numeric_cols])\n",
        "\n"
      ]
    },
    {
      "cell_type": "code",
      "execution_count": null,
      "metadata": {
        "id": "2t9eiNqgoq7O"
      },
      "outputs": [],
      "source": [
        "X_test_scaled[numeric_cols] = standard.fit_transform(X_test_scaled[numeric_cols])"
      ]
    },
    {
      "cell_type": "code",
      "execution_count": null,
      "metadata": {
        "colab": {
          "base_uri": "https://localhost:8080/"
        },
        "id": "d1yipddp0Ivi",
        "outputId": "82faf92c-a1bc-452a-d092-e704f3442109"
      },
      "outputs": [
        {
          "output_type": "execute_result",
          "data": {
            "text/plain": [
              "((4453834, 11), (1908786, 11))"
            ]
          },
          "metadata": {},
          "execution_count": 54
        }
      ],
      "source": [
        "X_train_scaled.shape,X_test_scaled.shape"
      ]
    },
    {
      "cell_type": "code",
      "execution_count": null,
      "metadata": {
        "colab": {
          "base_uri": "https://localhost:8080/"
        },
        "id": "9zyDaSch0qhy",
        "outputId": "ec75b830-ab3e-4fbc-965e-62d432a27d0d"
      },
      "outputs": [
        {
          "output_type": "stream",
          "name": "stdout",
          "text": [
            "<class 'pandas.core.frame.DataFrame'>\n",
            "Int64Index: 4453834 entries, 3666151 to 4210380\n",
            "Data columns (total 11 columns):\n",
            " #   Column          Dtype  \n",
            "---  ------          -----  \n",
            " 0   step            float64\n",
            " 1   amount          float64\n",
            " 2   oldbalanceOrg   float64\n",
            " 3   newbalanceOrig  float64\n",
            " 4   oldbalanceDest  float64\n",
            " 5   newbalanceDest  float64\n",
            " 6   isFlaggedFraud  float64\n",
            " 7   type_CASH_OUT   float64\n",
            " 8   type_DEBIT      float64\n",
            " 9   type_PAYMENT    float64\n",
            " 10  type_TRANSFER   float64\n",
            "dtypes: float64(11)\n",
            "memory usage: 407.8 MB\n"
          ]
        }
      ],
      "source": [
        "X_train_scaled.info()"
      ]
    },
    {
      "cell_type": "code",
      "execution_count": null,
      "metadata": {
        "colab": {
          "base_uri": "https://localhost:8080/",
          "height": 300
        },
        "id": "7awFt-F9N1ZU",
        "outputId": "8b87ccbc-56e9-4640-b2d0-28718b77e683"
      },
      "outputs": [
        {
          "output_type": "execute_result",
          "data": {
            "text/html": [
              "\n",
              "  <div id=\"df-7b0de336-dfef-4b5a-afb1-4b575af2b7f5\">\n",
              "    <div class=\"colab-df-container\">\n",
              "      <div>\n",
              "<style scoped>\n",
              "    .dataframe tbody tr th:only-of-type {\n",
              "        vertical-align: middle;\n",
              "    }\n",
              "\n",
              "    .dataframe tbody tr th {\n",
              "        vertical-align: top;\n",
              "    }\n",
              "\n",
              "    .dataframe thead th {\n",
              "        text-align: right;\n",
              "    }\n",
              "</style>\n",
              "<table border=\"1\" class=\"dataframe\">\n",
              "  <thead>\n",
              "    <tr style=\"text-align: right;\">\n",
              "      <th></th>\n",
              "      <th>step</th>\n",
              "      <th>amount</th>\n",
              "      <th>oldbalanceOrg</th>\n",
              "      <th>newbalanceOrig</th>\n",
              "      <th>oldbalanceDest</th>\n",
              "      <th>newbalanceDest</th>\n",
              "      <th>isFlaggedFraud</th>\n",
              "      <th>type_CASH_OUT</th>\n",
              "      <th>type_DEBIT</th>\n",
              "      <th>type_PAYMENT</th>\n",
              "      <th>type_TRANSFER</th>\n",
              "    </tr>\n",
              "  </thead>\n",
              "  <tbody>\n",
              "    <tr>\n",
              "      <th>count</th>\n",
              "      <td>4.453834e+06</td>\n",
              "      <td>4.453834e+06</td>\n",
              "      <td>4.453834e+06</td>\n",
              "      <td>4.453834e+06</td>\n",
              "      <td>4.453834e+06</td>\n",
              "      <td>4.453834e+06</td>\n",
              "      <td>4.453834e+06</td>\n",
              "      <td>4.453834e+06</td>\n",
              "      <td>4.453834e+06</td>\n",
              "      <td>4.453834e+06</td>\n",
              "      <td>4.453834e+06</td>\n",
              "    </tr>\n",
              "    <tr>\n",
              "      <th>mean</th>\n",
              "      <td>-2.675316e-16</td>\n",
              "      <td>-8.569255e-16</td>\n",
              "      <td>2.595593e-15</td>\n",
              "      <td>1.421098e-15</td>\n",
              "      <td>-8.732263e-15</td>\n",
              "      <td>-1.561713e-15</td>\n",
              "      <td>4.781060e-14</td>\n",
              "      <td>2.924396e-15</td>\n",
              "      <td>4.971685e-15</td>\n",
              "      <td>-7.771319e-15</td>\n",
              "      <td>9.630350e-15</td>\n",
              "    </tr>\n",
              "    <tr>\n",
              "      <th>std</th>\n",
              "      <td>1.000000e+00</td>\n",
              "      <td>1.000000e+00</td>\n",
              "      <td>1.000000e+00</td>\n",
              "      <td>1.000000e+00</td>\n",
              "      <td>1.000000e+00</td>\n",
              "      <td>1.000000e+00</td>\n",
              "      <td>1.000000e+00</td>\n",
              "      <td>1.000000e+00</td>\n",
              "      <td>1.000000e+00</td>\n",
              "      <td>1.000000e+00</td>\n",
              "      <td>1.000000e+00</td>\n",
              "    </tr>\n",
              "    <tr>\n",
              "      <th>min</th>\n",
              "      <td>-1.703551e+00</td>\n",
              "      <td>-7.989239e-01</td>\n",
              "      <td>-6.331142e-01</td>\n",
              "      <td>-5.858542e-01</td>\n",
              "      <td>-6.372752e-01</td>\n",
              "      <td>-6.529057e-01</td>\n",
              "      <td>-1.772955e-03</td>\n",
              "      <td>-7.363250e-01</td>\n",
              "      <td>-8.084239e-02</td>\n",
              "      <td>-7.146770e-01</td>\n",
              "      <td>-3.024038e-01</td>\n",
              "    </tr>\n",
              "    <tr>\n",
              "      <th>25%</th>\n",
              "      <td>-6.141253e-01</td>\n",
              "      <td>-7.241003e-01</td>\n",
              "      <td>-6.331142e-01</td>\n",
              "      <td>-5.858542e-01</td>\n",
              "      <td>-6.372752e-01</td>\n",
              "      <td>-6.529057e-01</td>\n",
              "      <td>-1.772955e-03</td>\n",
              "      <td>-7.363250e-01</td>\n",
              "      <td>-8.084239e-02</td>\n",
              "      <td>-7.146770e-01</td>\n",
              "      <td>-3.024038e-01</td>\n",
              "    </tr>\n",
              "    <tr>\n",
              "      <th>50%</th>\n",
              "      <td>-3.075535e-02</td>\n",
              "      <td>-3.806557e-01</td>\n",
              "      <td>-5.411835e-01</td>\n",
              "      <td>-5.858542e-01</td>\n",
              "      <td>-5.220395e-01</td>\n",
              "      <td>-4.902273e-01</td>\n",
              "      <td>-1.772955e-03</td>\n",
              "      <td>-7.363250e-01</td>\n",
              "      <td>-8.084239e-02</td>\n",
              "      <td>-7.146770e-01</td>\n",
              "      <td>-3.024038e-01</td>\n",
              "    </tr>\n",
              "    <tr>\n",
              "      <th>75%</th>\n",
              "      <td>6.369573e-01</td>\n",
              "      <td>3.661988e-01</td>\n",
              "      <td>6.190271e-02</td>\n",
              "      <td>1.144663e-01</td>\n",
              "      <td>1.795777e-01</td>\n",
              "      <td>1.897663e-01</td>\n",
              "      <td>-1.772955e-03</td>\n",
              "      <td>1.358096e+00</td>\n",
              "      <td>-8.084239e-02</td>\n",
              "      <td>1.399234e+00</td>\n",
              "      <td>-3.024038e-01</td>\n",
              "    </tr>\n",
              "    <tr>\n",
              "      <th>max</th>\n",
              "      <td>3.511636e+00</td>\n",
              "      <td>3.638808e+00</td>\n",
              "      <td>2.146699e+00</td>\n",
              "      <td>2.212008e+00</td>\n",
              "      <td>2.625740e+00</td>\n",
              "      <td>2.713433e+00</td>\n",
              "      <td>5.640301e+02</td>\n",
              "      <td>1.358096e+00</td>\n",
              "      <td>1.236975e+01</td>\n",
              "      <td>1.399234e+00</td>\n",
              "      <td>3.306836e+00</td>\n",
              "    </tr>\n",
              "  </tbody>\n",
              "</table>\n",
              "</div>\n",
              "      <button class=\"colab-df-convert\" onclick=\"convertToInteractive('df-7b0de336-dfef-4b5a-afb1-4b575af2b7f5')\"\n",
              "              title=\"Convert this dataframe to an interactive table.\"\n",
              "              style=\"display:none;\">\n",
              "        \n",
              "  <svg xmlns=\"http://www.w3.org/2000/svg\" height=\"24px\"viewBox=\"0 0 24 24\"\n",
              "       width=\"24px\">\n",
              "    <path d=\"M0 0h24v24H0V0z\" fill=\"none\"/>\n",
              "    <path d=\"M18.56 5.44l.94 2.06.94-2.06 2.06-.94-2.06-.94-.94-2.06-.94 2.06-2.06.94zm-11 1L8.5 8.5l.94-2.06 2.06-.94-2.06-.94L8.5 2.5l-.94 2.06-2.06.94zm10 10l.94 2.06.94-2.06 2.06-.94-2.06-.94-.94-2.06-.94 2.06-2.06.94z\"/><path d=\"M17.41 7.96l-1.37-1.37c-.4-.4-.92-.59-1.43-.59-.52 0-1.04.2-1.43.59L10.3 9.45l-7.72 7.72c-.78.78-.78 2.05 0 2.83L4 21.41c.39.39.9.59 1.41.59.51 0 1.02-.2 1.41-.59l7.78-7.78 2.81-2.81c.8-.78.8-2.07 0-2.86zM5.41 20L4 18.59l7.72-7.72 1.47 1.35L5.41 20z\"/>\n",
              "  </svg>\n",
              "      </button>\n",
              "      \n",
              "  <style>\n",
              "    .colab-df-container {\n",
              "      display:flex;\n",
              "      flex-wrap:wrap;\n",
              "      gap: 12px;\n",
              "    }\n",
              "\n",
              "    .colab-df-convert {\n",
              "      background-color: #E8F0FE;\n",
              "      border: none;\n",
              "      border-radius: 50%;\n",
              "      cursor: pointer;\n",
              "      display: none;\n",
              "      fill: #1967D2;\n",
              "      height: 32px;\n",
              "      padding: 0 0 0 0;\n",
              "      width: 32px;\n",
              "    }\n",
              "\n",
              "    .colab-df-convert:hover {\n",
              "      background-color: #E2EBFA;\n",
              "      box-shadow: 0px 1px 2px rgba(60, 64, 67, 0.3), 0px 1px 3px 1px rgba(60, 64, 67, 0.15);\n",
              "      fill: #174EA6;\n",
              "    }\n",
              "\n",
              "    [theme=dark] .colab-df-convert {\n",
              "      background-color: #3B4455;\n",
              "      fill: #D2E3FC;\n",
              "    }\n",
              "\n",
              "    [theme=dark] .colab-df-convert:hover {\n",
              "      background-color: #434B5C;\n",
              "      box-shadow: 0px 1px 3px 1px rgba(0, 0, 0, 0.15);\n",
              "      filter: drop-shadow(0px 1px 2px rgba(0, 0, 0, 0.3));\n",
              "      fill: #FFFFFF;\n",
              "    }\n",
              "  </style>\n",
              "\n",
              "      <script>\n",
              "        const buttonEl =\n",
              "          document.querySelector('#df-7b0de336-dfef-4b5a-afb1-4b575af2b7f5 button.colab-df-convert');\n",
              "        buttonEl.style.display =\n",
              "          google.colab.kernel.accessAllowed ? 'block' : 'none';\n",
              "\n",
              "        async function convertToInteractive(key) {\n",
              "          const element = document.querySelector('#df-7b0de336-dfef-4b5a-afb1-4b575af2b7f5');\n",
              "          const dataTable =\n",
              "            await google.colab.kernel.invokeFunction('convertToInteractive',\n",
              "                                                     [key], {});\n",
              "          if (!dataTable) return;\n",
              "\n",
              "          const docLinkHtml = 'Like what you see? Visit the ' +\n",
              "            '<a target=\"_blank\" href=https://colab.research.google.com/notebooks/data_table.ipynb>data table notebook</a>'\n",
              "            + ' to learn more about interactive tables.';\n",
              "          element.innerHTML = '';\n",
              "          dataTable['output_type'] = 'display_data';\n",
              "          await google.colab.output.renderOutput(dataTable, element);\n",
              "          const docLink = document.createElement('div');\n",
              "          docLink.innerHTML = docLinkHtml;\n",
              "          element.appendChild(docLink);\n",
              "        }\n",
              "      </script>\n",
              "    </div>\n",
              "  </div>\n",
              "  "
            ],
            "text/plain": [
              "               step        amount  ...  type_PAYMENT  type_TRANSFER\n",
              "count  4.453834e+06  4.453834e+06  ...  4.453834e+06   4.453834e+06\n",
              "mean  -2.675316e-16 -8.569255e-16  ... -7.771319e-15   9.630350e-15\n",
              "std    1.000000e+00  1.000000e+00  ...  1.000000e+00   1.000000e+00\n",
              "min   -1.703551e+00 -7.989239e-01  ... -7.146770e-01  -3.024038e-01\n",
              "25%   -6.141253e-01 -7.241003e-01  ... -7.146770e-01  -3.024038e-01\n",
              "50%   -3.075535e-02 -3.806557e-01  ... -7.146770e-01  -3.024038e-01\n",
              "75%    6.369573e-01  3.661988e-01  ...  1.399234e+00  -3.024038e-01\n",
              "max    3.511636e+00  3.638808e+00  ...  1.399234e+00   3.306836e+00\n",
              "\n",
              "[8 rows x 11 columns]"
            ]
          },
          "metadata": {},
          "execution_count": 56
        }
      ],
      "source": [
        "X_train_scaled.describe()"
      ]
    },
    {
      "cell_type": "code",
      "execution_count": null,
      "metadata": {
        "colab": {
          "base_uri": "https://localhost:8080/"
        },
        "id": "B5ipHmSQOCCH",
        "outputId": "e2f69786-cbcf-4631-d36d-6cc68eae108f"
      },
      "outputs": [
        {
          "output_type": "execute_result",
          "data": {
            "text/plain": [
              "(4453834, 11)"
            ]
          },
          "metadata": {},
          "execution_count": 57
        }
      ],
      "source": [
        "X_train_scaled.shape"
      ]
    },
    {
      "cell_type": "code",
      "execution_count": null,
      "metadata": {
        "colab": {
          "base_uri": "https://localhost:8080/"
        },
        "id": "bgrGdqzKOIIj",
        "outputId": "dd2bbed0-d6f5-48be-89a4-c5f1db83198c"
      },
      "outputs": [
        {
          "output_type": "stream",
          "name": "stdout",
          "text": [
            "<class 'pandas.core.frame.DataFrame'>\n",
            "Int64Index: 1908786 entries, 449024 to 729674\n",
            "Data columns (total 11 columns):\n",
            " #   Column          Dtype  \n",
            "---  ------          -----  \n",
            " 0   step            float64\n",
            " 1   amount          float64\n",
            " 2   oldbalanceOrg   float64\n",
            " 3   newbalanceOrig  float64\n",
            " 4   oldbalanceDest  float64\n",
            " 5   newbalanceDest  float64\n",
            " 6   isFlaggedFraud  float64\n",
            " 7   type_CASH_OUT   float64\n",
            " 8   type_DEBIT      float64\n",
            " 9   type_PAYMENT    float64\n",
            " 10  type_TRANSFER   float64\n",
            "dtypes: float64(11)\n",
            "memory usage: 174.8 MB\n"
          ]
        }
      ],
      "source": [
        "X_test_scaled.info()"
      ]
    },
    {
      "cell_type": "code",
      "execution_count": null,
      "metadata": {
        "colab": {
          "base_uri": "https://localhost:8080/"
        },
        "id": "dgbDGM9yOVX6",
        "outputId": "a647de3f-ca57-4ef1-90d9-ea31cad28ac7"
      },
      "outputs": [
        {
          "output_type": "execute_result",
          "data": {
            "text/plain": [
              "(1908786, 11)"
            ]
          },
          "metadata": {},
          "execution_count": 59
        }
      ],
      "source": [
        "X_test_scaled.shape"
      ]
    },
    {
      "cell_type": "code",
      "execution_count": null,
      "metadata": {
        "colab": {
          "base_uri": "https://localhost:8080/",
          "height": 300
        },
        "id": "ufQ0HRvLOW8a",
        "outputId": "d5d8360c-6981-42ff-c5e9-0da8ddc032b8"
      },
      "outputs": [
        {
          "output_type": "execute_result",
          "data": {
            "text/html": [
              "\n",
              "  <div id=\"df-36de28c6-b85d-410a-a62d-93957f6ced02\">\n",
              "    <div class=\"colab-df-container\">\n",
              "      <div>\n",
              "<style scoped>\n",
              "    .dataframe tbody tr th:only-of-type {\n",
              "        vertical-align: middle;\n",
              "    }\n",
              "\n",
              "    .dataframe tbody tr th {\n",
              "        vertical-align: top;\n",
              "    }\n",
              "\n",
              "    .dataframe thead th {\n",
              "        text-align: right;\n",
              "    }\n",
              "</style>\n",
              "<table border=\"1\" class=\"dataframe\">\n",
              "  <thead>\n",
              "    <tr style=\"text-align: right;\">\n",
              "      <th></th>\n",
              "      <th>step</th>\n",
              "      <th>amount</th>\n",
              "      <th>oldbalanceOrg</th>\n",
              "      <th>newbalanceOrig</th>\n",
              "      <th>oldbalanceDest</th>\n",
              "      <th>newbalanceDest</th>\n",
              "      <th>isFlaggedFraud</th>\n",
              "      <th>type_CASH_OUT</th>\n",
              "      <th>type_DEBIT</th>\n",
              "      <th>type_PAYMENT</th>\n",
              "      <th>type_TRANSFER</th>\n",
              "    </tr>\n",
              "  </thead>\n",
              "  <tbody>\n",
              "    <tr>\n",
              "      <th>count</th>\n",
              "      <td>1.908786e+06</td>\n",
              "      <td>1.908786e+06</td>\n",
              "      <td>1.908786e+06</td>\n",
              "      <td>1.908786e+06</td>\n",
              "      <td>1.908786e+06</td>\n",
              "      <td>1.908786e+06</td>\n",
              "      <td>1.908786e+06</td>\n",
              "      <td>1.908786e+06</td>\n",
              "      <td>1.908786e+06</td>\n",
              "      <td>1.908786e+06</td>\n",
              "      <td>1.908786e+06</td>\n",
              "    </tr>\n",
              "    <tr>\n",
              "      <th>mean</th>\n",
              "      <td>-1.873623e-16</td>\n",
              "      <td>3.562288e-16</td>\n",
              "      <td>4.501519e-15</td>\n",
              "      <td>-1.234803e-14</td>\n",
              "      <td>-6.391106e-15</td>\n",
              "      <td>5.907566e-15</td>\n",
              "      <td>1.404254e-14</td>\n",
              "      <td>-8.955630e-15</td>\n",
              "      <td>8.839433e-15</td>\n",
              "      <td>6.365469e-15</td>\n",
              "      <td>1.180176e-14</td>\n",
              "    </tr>\n",
              "    <tr>\n",
              "      <th>std</th>\n",
              "      <td>1.000000e+00</td>\n",
              "      <td>1.000000e+00</td>\n",
              "      <td>1.000000e+00</td>\n",
              "      <td>1.000000e+00</td>\n",
              "      <td>1.000000e+00</td>\n",
              "      <td>1.000000e+00</td>\n",
              "      <td>1.000000e+00</td>\n",
              "      <td>1.000000e+00</td>\n",
              "      <td>1.000000e+00</td>\n",
              "      <td>1.000000e+00</td>\n",
              "      <td>1.000000e+00</td>\n",
              "    </tr>\n",
              "    <tr>\n",
              "      <th>min</th>\n",
              "      <td>-1.701855e+00</td>\n",
              "      <td>-7.988484e-01</td>\n",
              "      <td>-6.330466e-01</td>\n",
              "      <td>-5.851738e-01</td>\n",
              "      <td>-6.364630e-01</td>\n",
              "      <td>-6.522031e-01</td>\n",
              "      <td>-1.023615e-03</td>\n",
              "      <td>-7.368545e-01</td>\n",
              "      <td>-8.123259e-02</td>\n",
              "      <td>-7.150134e-01</td>\n",
              "      <td>-3.022082e-01</td>\n",
              "    </tr>\n",
              "    <tr>\n",
              "      <th>25%</th>\n",
              "      <td>-6.208547e-01</td>\n",
              "      <td>-7.242058e-01</td>\n",
              "      <td>-6.330466e-01</td>\n",
              "      <td>-5.851738e-01</td>\n",
              "      <td>-6.364630e-01</td>\n",
              "      <td>-6.522031e-01</td>\n",
              "      <td>-1.023615e-03</td>\n",
              "      <td>-7.368545e-01</td>\n",
              "      <td>-8.123259e-02</td>\n",
              "      <td>-7.150134e-01</td>\n",
              "      <td>-3.022082e-01</td>\n",
              "    </tr>\n",
              "    <tr>\n",
              "      <th>50%</th>\n",
              "      <td>-3.121810e-02</td>\n",
              "      <td>-3.811613e-01</td>\n",
              "      <td>-5.408071e-01</td>\n",
              "      <td>-5.851738e-01</td>\n",
              "      <td>-5.227253e-01</td>\n",
              "      <td>-4.901648e-01</td>\n",
              "      <td>-1.023615e-03</td>\n",
              "      <td>-7.368545e-01</td>\n",
              "      <td>-8.123259e-02</td>\n",
              "      <td>-7.150134e-01</td>\n",
              "      <td>-3.022082e-01</td>\n",
              "    </tr>\n",
              "    <tr>\n",
              "      <th>75%</th>\n",
              "      <td>6.426523e-01</td>\n",
              "      <td>3.675285e-01</td>\n",
              "      <td>6.201122e-02</td>\n",
              "      <td>1.123784e-01</td>\n",
              "      <td>1.767488e-01</td>\n",
              "      <td>1.869291e-01</td>\n",
              "      <td>-1.023615e-03</td>\n",
              "      <td>1.357120e+00</td>\n",
              "      <td>-8.123259e-02</td>\n",
              "      <td>1.398575e+00</td>\n",
              "      <td>-3.022082e-01</td>\n",
              "    </tr>\n",
              "    <tr>\n",
              "      <th>max</th>\n",
              "      <td>3.506602e+00</td>\n",
              "      <td>3.639012e+00</td>\n",
              "      <td>2.147681e+00</td>\n",
              "      <td>2.213524e+00</td>\n",
              "      <td>2.626625e+00</td>\n",
              "      <td>2.713819e+00</td>\n",
              "      <td>9.769299e+02</td>\n",
              "      <td>1.357120e+00</td>\n",
              "      <td>1.231033e+01</td>\n",
              "      <td>1.398575e+00</td>\n",
              "      <td>3.308977e+00</td>\n",
              "    </tr>\n",
              "  </tbody>\n",
              "</table>\n",
              "</div>\n",
              "      <button class=\"colab-df-convert\" onclick=\"convertToInteractive('df-36de28c6-b85d-410a-a62d-93957f6ced02')\"\n",
              "              title=\"Convert this dataframe to an interactive table.\"\n",
              "              style=\"display:none;\">\n",
              "        \n",
              "  <svg xmlns=\"http://www.w3.org/2000/svg\" height=\"24px\"viewBox=\"0 0 24 24\"\n",
              "       width=\"24px\">\n",
              "    <path d=\"M0 0h24v24H0V0z\" fill=\"none\"/>\n",
              "    <path d=\"M18.56 5.44l.94 2.06.94-2.06 2.06-.94-2.06-.94-.94-2.06-.94 2.06-2.06.94zm-11 1L8.5 8.5l.94-2.06 2.06-.94-2.06-.94L8.5 2.5l-.94 2.06-2.06.94zm10 10l.94 2.06.94-2.06 2.06-.94-2.06-.94-.94-2.06-.94 2.06-2.06.94z\"/><path d=\"M17.41 7.96l-1.37-1.37c-.4-.4-.92-.59-1.43-.59-.52 0-1.04.2-1.43.59L10.3 9.45l-7.72 7.72c-.78.78-.78 2.05 0 2.83L4 21.41c.39.39.9.59 1.41.59.51 0 1.02-.2 1.41-.59l7.78-7.78 2.81-2.81c.8-.78.8-2.07 0-2.86zM5.41 20L4 18.59l7.72-7.72 1.47 1.35L5.41 20z\"/>\n",
              "  </svg>\n",
              "      </button>\n",
              "      \n",
              "  <style>\n",
              "    .colab-df-container {\n",
              "      display:flex;\n",
              "      flex-wrap:wrap;\n",
              "      gap: 12px;\n",
              "    }\n",
              "\n",
              "    .colab-df-convert {\n",
              "      background-color: #E8F0FE;\n",
              "      border: none;\n",
              "      border-radius: 50%;\n",
              "      cursor: pointer;\n",
              "      display: none;\n",
              "      fill: #1967D2;\n",
              "      height: 32px;\n",
              "      padding: 0 0 0 0;\n",
              "      width: 32px;\n",
              "    }\n",
              "\n",
              "    .colab-df-convert:hover {\n",
              "      background-color: #E2EBFA;\n",
              "      box-shadow: 0px 1px 2px rgba(60, 64, 67, 0.3), 0px 1px 3px 1px rgba(60, 64, 67, 0.15);\n",
              "      fill: #174EA6;\n",
              "    }\n",
              "\n",
              "    [theme=dark] .colab-df-convert {\n",
              "      background-color: #3B4455;\n",
              "      fill: #D2E3FC;\n",
              "    }\n",
              "\n",
              "    [theme=dark] .colab-df-convert:hover {\n",
              "      background-color: #434B5C;\n",
              "      box-shadow: 0px 1px 3px 1px rgba(0, 0, 0, 0.15);\n",
              "      filter: drop-shadow(0px 1px 2px rgba(0, 0, 0, 0.3));\n",
              "      fill: #FFFFFF;\n",
              "    }\n",
              "  </style>\n",
              "\n",
              "      <script>\n",
              "        const buttonEl =\n",
              "          document.querySelector('#df-36de28c6-b85d-410a-a62d-93957f6ced02 button.colab-df-convert');\n",
              "        buttonEl.style.display =\n",
              "          google.colab.kernel.accessAllowed ? 'block' : 'none';\n",
              "\n",
              "        async function convertToInteractive(key) {\n",
              "          const element = document.querySelector('#df-36de28c6-b85d-410a-a62d-93957f6ced02');\n",
              "          const dataTable =\n",
              "            await google.colab.kernel.invokeFunction('convertToInteractive',\n",
              "                                                     [key], {});\n",
              "          if (!dataTable) return;\n",
              "\n",
              "          const docLinkHtml = 'Like what you see? Visit the ' +\n",
              "            '<a target=\"_blank\" href=https://colab.research.google.com/notebooks/data_table.ipynb>data table notebook</a>'\n",
              "            + ' to learn more about interactive tables.';\n",
              "          element.innerHTML = '';\n",
              "          dataTable['output_type'] = 'display_data';\n",
              "          await google.colab.output.renderOutput(dataTable, element);\n",
              "          const docLink = document.createElement('div');\n",
              "          docLink.innerHTML = docLinkHtml;\n",
              "          element.appendChild(docLink);\n",
              "        }\n",
              "      </script>\n",
              "    </div>\n",
              "  </div>\n",
              "  "
            ],
            "text/plain": [
              "               step        amount  ...  type_PAYMENT  type_TRANSFER\n",
              "count  1.908786e+06  1.908786e+06  ...  1.908786e+06   1.908786e+06\n",
              "mean  -1.873623e-16  3.562288e-16  ...  6.365469e-15   1.180176e-14\n",
              "std    1.000000e+00  1.000000e+00  ...  1.000000e+00   1.000000e+00\n",
              "min   -1.701855e+00 -7.988484e-01  ... -7.150134e-01  -3.022082e-01\n",
              "25%   -6.208547e-01 -7.242058e-01  ... -7.150134e-01  -3.022082e-01\n",
              "50%   -3.121810e-02 -3.811613e-01  ... -7.150134e-01  -3.022082e-01\n",
              "75%    6.426523e-01  3.675285e-01  ...  1.398575e+00  -3.022082e-01\n",
              "max    3.506602e+00  3.639012e+00  ...  1.398575e+00   3.308977e+00\n",
              "\n",
              "[8 rows x 11 columns]"
            ]
          },
          "metadata": {},
          "execution_count": 60
        }
      ],
      "source": [
        "X_test_scaled.describe()"
      ]
    },
    {
      "cell_type": "code",
      "execution_count": null,
      "metadata": {
        "colab": {
          "base_uri": "https://localhost:8080/"
        },
        "id": "kKNpVMRX0HtW",
        "outputId": "499d7c13-8f51-428d-b7e0-6e4800cc218a"
      },
      "outputs": [
        {
          "output_type": "execute_result",
          "data": {
            "text/plain": [
              "0.6195007352216951"
            ]
          },
          "metadata": {},
          "execution_count": 61
        }
      ],
      "source": [
        "clf = LogisticRegression(random_state=888, max_iter=200)\n",
        "clf.fit(X_train_scaled,  np.ravel(y_train))\n",
        "y_pred = clf.predict(X_test_scaled)\n",
        "roc_auc_score(y_test, y_pred)"
      ]
    },
    {
      "cell_type": "code",
      "execution_count": null,
      "metadata": {
        "colab": {
          "base_uri": "https://localhost:8080/"
        },
        "id": "uQ9tnnpZ1k6Y",
        "outputId": "9834f844-d5e6-4545-f1c5-b7f666cf7f73"
      },
      "outputs": [
        {
          "output_type": "execute_result",
          "data": {
            "text/plain": [
              "0.5893174131883131"
            ]
          },
          "metadata": {},
          "execution_count": 62
        }
      ],
      "source": [
        "clf = LogisticRegression(random_state=888, max_iter=200)\n",
        "clf.fit(X_train_scaled.drop(['oldbalanceDest','newbalanceDest'],axis = 1),  np.ravel(y_train))\n",
        "y_pred = clf.predict(X_test_scaled.drop(['oldbalanceDest','newbalanceDest'],axis = 1))\n",
        "roc_auc_score(y_test, y_pred)"
      ]
    },
    {
      "cell_type": "markdown",
      "metadata": {
        "id": "x7TKBIwrcAqX"
      },
      "source": [
        "#### Predictive Perfomance Testing on different classification models using scaled data"
      ]
    },
    {
      "cell_type": "markdown",
      "metadata": {
        "id": "DWSs6C3R6q4K"
      },
      "source": [
        "##### Decision Trees<h2>"
      ]
    },
    {
      "cell_type": "markdown",
      "metadata": {
        "id": "oYFZyARYDYiv"
      },
      "source": [
        "Taking a shallow tree so as to avoid the problem of overfitting"
      ]
    },
    {
      "cell_type": "markdown",
      "metadata": {
        "id": "vovLKJcacX0O"
      },
      "source": [
        "<h3>With all numeric feature variables"
      ]
    },
    {
      "cell_type": "code",
      "execution_count": null,
      "metadata": {
        "id": "STHqj0SHAMuo"
      },
      "outputs": [],
      "source": [
        "from sklearn.model_selection import GridSearchCV"
      ]
    },
    {
      "cell_type": "code",
      "execution_count": null,
      "metadata": {
        "colab": {
          "base_uri": "https://localhost:8080/"
        },
        "id": "S9kUmma2ATVK",
        "outputId": "844c8ee4-8dce-497b-dda0-52f89c9ce0c8"
      },
      "outputs": [
        {
          "output_type": "execute_result",
          "data": {
            "text/plain": [
              "GridSearchCV(estimator=DecisionTreeClassifier(random_state=888),\n",
              "             param_grid=[{'criterion': ['gini', 'entropy'],\n",
              "                          'max_depth': [2, 3]}])"
            ]
          },
          "metadata": {},
          "execution_count": 64
        }
      ],
      "source": [
        "tuned_parameters = [{'max_depth':[2,3],\n",
        "                     'criterion': [\"gini\", \"entropy\"]}] \n",
        "grid_search = GridSearchCV(\n",
        "        tree.DecisionTreeClassifier(random_state=888),\n",
        "        param_grid=tuned_parameters\n",
        "        )\n",
        "grid_search.fit(X_train_scaled, y_train)"
      ]
    },
    {
      "cell_type": "code",
      "execution_count": null,
      "metadata": {
        "colab": {
          "base_uri": "https://localhost:8080/"
        },
        "id": "4a_KmZU6FRXN",
        "outputId": "534866ef-caf2-4a7e-f7ae-07722f4a8a79"
      },
      "outputs": [
        {
          "output_type": "stream",
          "name": "stdout",
          "text": [
            "{'criterion': 'entropy', 'max_depth': 3}\n"
          ]
        }
      ],
      "source": [
        "print(grid_search.best_params_)"
      ]
    },
    {
      "cell_type": "code",
      "execution_count": null,
      "metadata": {
        "id": "RK_oneYFGdnw"
      },
      "outputs": [],
      "source": [
        "grid_search_pred = grid_search.predict_proba(X_test_scaled) "
      ]
    },
    {
      "cell_type": "code",
      "execution_count": null,
      "metadata": {
        "colab": {
          "base_uri": "https://localhost:8080/"
        },
        "id": "Bq1zyfcAHKTW",
        "outputId": "446e9b22-ff90-4434-b00e-820a2ea4265e"
      },
      "outputs": [
        {
          "output_type": "execute_result",
          "data": {
            "text/plain": [
              "0.8417130879128609"
            ]
          },
          "metadata": {},
          "execution_count": 67
        }
      ],
      "source": [
        "fpr_grid, tpr_grid, thresholds = metrics.roc_curve(y_test, grid_search_pred[:,1]) \n",
        "auc_grid = metrics.auc(fpr_grid, tpr_grid)\n",
        "\n",
        "auc_grid"
      ]
    },
    {
      "cell_type": "code",
      "execution_count": null,
      "metadata": {
        "id": "A0Gkx6eRIj1M"
      },
      "outputs": [],
      "source": [
        "y_pred_tree = grid_search.predict(X_test_scaled).ravel() "
      ]
    },
    {
      "cell_type": "code",
      "source": [
        "min_freq_tree_grid = y_pred_tree.sum()/len(y_pred_tree) * 100\n",
        "min_freq_tree_grid"
      ],
      "metadata": {
        "colab": {
          "base_uri": "https://localhost:8080/"
        },
        "id": "QYruHfcZzQCX",
        "outputId": "baced5e0-9bc0-43f3-d072-eb1d4fc53bac"
      },
      "execution_count": null,
      "outputs": [
        {
          "output_type": "execute_result",
          "data": {
            "text/plain": [
              "0.0"
            ]
          },
          "metadata": {},
          "execution_count": 69
        }
      ]
    },
    {
      "cell_type": "markdown",
      "source": [
        "The model predicted the class with label 1, i.e. the model predicted the minority class 0% of the time. This problem can be attributed to the class imbalance problem of the data set."
      ],
      "metadata": {
        "id": "x3BnXP0az5vf"
      }
    },
    {
      "cell_type": "code",
      "execution_count": null,
      "metadata": {
        "colab": {
          "base_uri": "https://localhost:8080/"
        },
        "id": "RMMzMxozId9W",
        "outputId": "c1510967-3f45-4921-a561-7211bebf2a9d"
      },
      "outputs": [
        {
          "output_type": "execute_result",
          "data": {
            "text/plain": [
              "0.5893174131883131"
            ]
          },
          "metadata": {},
          "execution_count": 70
        }
      ],
      "source": [
        "roc_auc_score(y_test, y_pred)"
      ]
    },
    {
      "cell_type": "code",
      "source": [
        "auc_2 = metrics.roc_auc_score(y_test, grid_search_pred[:,1])\n",
        "auc_2"
      ],
      "metadata": {
        "colab": {
          "base_uri": "https://localhost:8080/"
        },
        "id": "9xcwgSy3YcAA",
        "outputId": "0e0f6e91-8df5-4557-d14f-9f08d1a064ec"
      },
      "execution_count": null,
      "outputs": [
        {
          "output_type": "execute_result",
          "data": {
            "text/plain": [
              "0.8417130879128609"
            ]
          },
          "metadata": {},
          "execution_count": 81
        }
      ]
    },
    {
      "cell_type": "markdown",
      "source": [
        "# Handling Class Imbalance"
      ],
      "metadata": {
        "id": "yEARrodY0SN9"
      }
    },
    {
      "cell_type": "code",
      "source": [
        "from imblearn.over_sampling import SMOTE\n",
        "\n",
        "X_resampled, y_resampled = SMOTE().fit_resample(X_train_scaled, np.ravel(y_train))"
      ],
      "metadata": {
        "id": "O160_IPr0V7-"
      },
      "execution_count": null,
      "outputs": []
    },
    {
      "cell_type": "code",
      "source": [
        "tuned_parameters = [{'max_depth':[2,3],\n",
        "                     'criterion': [\"gini\", \"entropy\"]}] \n",
        "grid_search_resample = GridSearchCV(\n",
        "        tree.DecisionTreeClassifier(random_state=888),\n",
        "        param_grid=tuned_parameters\n",
        "        )\n",
        "grid_search_resample.fit(X_resampled, y_resampled)\n",
        "grid_search_pred_resample = grid_search_resample.predict(X_test_scaled) "
      ],
      "metadata": {
        "id": "FzLqLRG00-_P"
      },
      "execution_count": null,
      "outputs": []
    },
    {
      "cell_type": "code",
      "source": [
        "acc = metrics.accuracy_score(y_test, grid_search_pred_resample)\n",
        "  \n",
        "fpr, tpr, thresholds = metrics.roc_curve(y_test, grid_search_pred_resample, pos_label=1)\n",
        "auc = metrics.auc(fpr, tpr)\n",
        "\n",
        "min_freq = grid_search_pred_resample.sum()/len(grid_search_pred_resample) * 100\n",
        "\n",
        "print('The model predicted the minority class {:.2f}'.format(min_freq), '% of the time')\n",
        "print('The AUC is {:.2f}'.format(auc))\n",
        "print('The sensitivity for the model is {:.2f}'.format(tpr[1]))"
      ],
      "metadata": {
        "colab": {
          "base_uri": "https://localhost:8080/"
        },
        "id": "oL8VBJbP3Rjj",
        "outputId": "22550059-2293-405e-bf0c-8b2abc0cb53f"
      },
      "execution_count": null,
      "outputs": [
        {
          "output_type": "stream",
          "name": "stdout",
          "text": [
            "The model predicted the minority class 4.85 % of the time\n",
            "The AUC is 0.72\n",
            "The sensitivity for the model is 0.49\n"
          ]
        }
      ]
    },
    {
      "cell_type": "code",
      "source": [
        "grid_search_pred_score = grid_search.predict(X_test)\n",
        "auc_2 = metrics.roc_auc_score(y_test, grid_search_pred_score)\n",
        "auc_2"
      ],
      "metadata": {
        "id": "KefX50P1YKwS"
      },
      "execution_count": null,
      "outputs": []
    },
    {
      "cell_type": "code",
      "source": [
        ""
      ],
      "metadata": {
        "id": "iFrZ8NgrYQKd"
      },
      "execution_count": null,
      "outputs": []
    },
    {
      "cell_type": "markdown",
      "metadata": {
        "id": "9HUW_2t4cg8V"
      },
      "source": [
        "<h3>With Feature variables excluding 'oldbalanceDest' and 'newbalanceDest'"
      ]
    },
    {
      "cell_type": "code",
      "execution_count": null,
      "metadata": {
        "colab": {
          "base_uri": "https://localhost:8080/"
        },
        "id": "b44vQkzVcr_x",
        "outputId": "ee07d18d-78a4-4b18-e31a-8f63f5f80dc6"
      },
      "outputs": [
        {
          "output_type": "execute_result",
          "data": {
            "text/plain": [
              "GridSearchCV(estimator=DecisionTreeClassifier(random_state=888),\n",
              "             param_grid=[{'criterion': ['gini', 'entropy'],\n",
              "                          'max_depth': [2, 3]}])"
            ]
          },
          "metadata": {},
          "execution_count": 74
        }
      ],
      "source": [
        "grid_search_rem_features=grid_search\n",
        "grid_search_rem_features.fit(X_train_scaled.drop(['oldbalanceDest','newbalanceDest'],axis = 1), y_train)\n"
      ]
    },
    {
      "cell_type": "code",
      "execution_count": null,
      "metadata": {
        "id": "3_deu1hOeplP"
      },
      "outputs": [],
      "source": [
        "y_pred_rem_features = grid_search_rem_features.predict(X_test_scaled.drop(['oldbalanceDest','newbalanceDest'],axis = 1)) "
      ]
    },
    {
      "cell_type": "code",
      "execution_count": null,
      "metadata": {
        "colab": {
          "base_uri": "https://localhost:8080/"
        },
        "id": "P3EUraCde0os",
        "outputId": "f0a1e424-cf55-4b84-ffd4-14163d49e3be"
      },
      "outputs": [
        {
          "output_type": "execute_result",
          "data": {
            "text/plain": [
              "0.5"
            ]
          },
          "metadata": {},
          "execution_count": 76
        }
      ],
      "source": [
        "roc_auc_score(y_test, y_pred_rem_features)"
      ]
    },
    {
      "cell_type": "markdown",
      "metadata": {
        "id": "3vnglb4LfUMB"
      },
      "source": [
        "## Random Forest"
      ]
    },
    {
      "cell_type": "code",
      "execution_count": null,
      "metadata": {
        "id": "ZS-ZqBSpfXNu"
      },
      "outputs": [],
      "source": [
        "from sklearn.ensemble import RandomForestClassifier  # import library"
      ]
    },
    {
      "cell_type": "code",
      "source": [
        "rf_3 = RandomForestClassifier(random_state=888, max_samples = 0.3,n_estimators = 100,max_features = 3)  # This way, bootstrap sample size will be 50% of the training set\n",
        "rf_3.fit(X_train_scaled, y_train.values.ravel())              # fit model to training set \n",
        "yhat = rf_3.predict_proba(X_test_scaled)                      # obtain test set predictions"
      ],
      "metadata": {
        "id": "m8vwFc4Sm-ff"
      },
      "execution_count": null,
      "outputs": []
    },
    {
      "cell_type": "markdown",
      "source": [
        "## Random Forest with SMOTE"
      ],
      "metadata": {
        "id": "o18493HyBKyx"
      }
    },
    {
      "cell_type": "code",
      "source": [
        "rf_resampled = RandomForestClassifier(random_state=888, max_samples = 0.3,n_estimators = 100,max_features = 3)  # This way, bootstrap sample size will be 50% of the training set\n",
        "rf_resampled.fit(X_resampled, y_resampled.ravel())              # fit model to training set \n"
      ],
      "metadata": {
        "id": "cfsgT1-J7zyJ"
      },
      "execution_count": null,
      "outputs": []
    },
    {
      "cell_type": "code",
      "source": [
        "yhat_resampled = rf_resampled.predict_proba(X_test_scaled)                      # obtain test set predictions"
      ],
      "metadata": {
        "id": "srkTtitcAY9Q"
      },
      "execution_count": null,
      "outputs": []
    },
    {
      "cell_type": "code",
      "source": [
        "fp_rate, tp_rate, thresholds = metrics.roc_curve(y_test, yhat_resampled[:,1])\n",
        "auc_rf_resampled = metrics.auc(fp_rate, tp_rate)\n",
        "\n",
        "auc_rf_resampled"
      ],
      "metadata": {
        "id": "BIcIhqFH8pxW"
      },
      "execution_count": null,
      "outputs": []
    },
    {
      "cell_type": "code",
      "source": [
        "pred_rf_resampled = rf_resampled.predict(X_test_scaled)\n",
        "min_freq_resampled_rf = pred_rf_resampled.sum()/len(pred_rf_resampled) * 100\n"
      ],
      "metadata": {
        "id": "7W9jaC0681o4"
      },
      "execution_count": null,
      "outputs": []
    },
    {
      "cell_type": "code",
      "source": [
        "y_pred_rf_3 = rf_3.predict(X_test_scaled) "
      ],
      "metadata": {
        "id": "lLwDMtuure6I"
      },
      "execution_count": null,
      "outputs": []
    },
    {
      "cell_type": "code",
      "source": [
        "roc_auc_score(y_test, y_pred_rf_3)"
      ],
      "metadata": {
        "id": "B3Ti-S2Yrxam"
      },
      "execution_count": null,
      "outputs": []
    },
    {
      "cell_type": "code",
      "source": [
        "tn, fp, fn, tp = metrics.confusion_matrix(y_test, pred_rf_resampled).ravel()\n",
        "(tn, fp, fn, tp)"
      ],
      "metadata": {
        "id": "5L0IYzuXuTsO"
      },
      "execution_count": null,
      "outputs": []
    },
    {
      "cell_type": "code",
      "source": [
        "tnr_rf = tn/(tn+fp)"
      ],
      "metadata": {
        "id": "2zktZS7muYBw"
      },
      "execution_count": null,
      "outputs": []
    },
    {
      "cell_type": "code",
      "source": [
        "tpr_rf = tp/(tp+fn)"
      ],
      "metadata": {
        "id": "83NhYOcEudaV"
      },
      "execution_count": null,
      "outputs": []
    },
    {
      "cell_type": "code",
      "source": [
        "g_mean_rf = math.sqrt(tnr_rf*tpr_rf)\n",
        "g_mean_rf"
      ],
      "metadata": {
        "id": "WqnjADPxvP-J"
      },
      "execution_count": null,
      "outputs": []
    },
    {
      "cell_type": "code",
      "source": [
        "X_train.info()"
      ],
      "metadata": {
        "id": "6cHXihW1Eh3i"
      },
      "execution_count": null,
      "outputs": []
    },
    {
      "cell_type": "markdown",
      "source": [
        "Note:Tuning such large data using GridSearchCV even with 8 candidate models and 20% of training data took more than one hour. So, skipping the tuning of Random Forest for this Notebook. "
      ],
      "metadata": {
        "id": "p3e1gczaRRBV"
      }
    },
    {
      "cell_type": "markdown",
      "source": [
        "# Description of fraud detection model in elaborate"
      ],
      "metadata": {
        "id": "QUwbHEffU2Bv"
      }
    },
    {
      "cell_type": "markdown",
      "source": [
        "WE can see from the above models that the predictive accuracy is affected significantly because of class imbalance in the trainig and test set. To solve this problem we perform data manipulation using SMOTE (Synthetic Minority Oversampling Technique). This technique adds synthetic data points of minority class in the training data set to improve the model performance. So we choose the resampled training data for modeling. \n",
        "\n",
        "Then we saw from Feature selection section that variables - 'oldbalanceDest' and 'newbalanceDest' are have low relationship with the target variable. Although on eliminating these features from the model negatively affected the model performance. So we choose to keep both these features while modeling the \n",
        "data. \n",
        "\n",
        "We also looked into the Weight of Evidence Criteria for the variable - 'type', we saw that it did not improve the model performance as compared to the dummy variables of the feature - type (type_CASH_OUT   bool,type_DEBIT,type_PAYMENT,  type_TRANSFER). Hence, we chose to go with the dummy variables instead of WOE for the feature 'type'. \n",
        "\n",
        "Additionally, It can be seen that standardized data has better performance measure as compared to unstandardized data.\n",
        "\n",
        "And therefore, I chose the following feature space - \n",
        " 0   step            float32\n",
        " 1   amount          float32\n",
        " 2   oldbalanceOrg   float32\n",
        " 3   newbalanceOrig  float32\n",
        " 4   oldbalanceDest  float32\n",
        " 5   newbalanceDest  float32\n",
        " 6   isFlaggedFraud  bool   \n",
        " 7   type_CASH_OUT   bool   \n",
        " 8   type_DEBIT      bool   \n",
        " 9   type_PAYMENT    bool   \n",
        " 10  type_TRANSFER   bool \n",
        " This feature space is standardized and is also resampled using SMOTE.\n",
        "This feature space makes sense in predicting a fradulent transaction. The step feature shows the time it took for the transaction, which is very important to check whether a transaction is fradulent or not. The amont of transaction, if high, can indicate money launderin. So it is very important to predict a fraud transaction.It's also very important to incorporate the variables - oldbalanceOrg,newbalanceOrig,oldbalanceDest,newbalanceDest. These variables will allow to check if there is any discrepency in the ledger. The feature isFlaggedFraud is significant to check if someone who is already flagged as fraud, has that person initiated a fraud transaction or not? Coming to ,the type of payment method can be useful in distinguishing the transactions from each other. \n",
        "\n",
        "Moving forward, the algorithm that performs best is Random Forest with 30% of training data, feature space of 3 and number of trees in the forest are 100. \n",
        "The AUC is remarkably good = 0.997, and G-mean = 0.86, which is the best predictive accuracy among all the classification algorithms.\n"
      ],
      "metadata": {
        "id": "vFFeV99vBsHX"
      }
    },
    {
      "cell_type": "markdown",
      "source": [
        "# Preventive measures to be adopted to detect fraudulent transactions while company update its infrastructure"
      ],
      "metadata": {
        "id": "HXh9XDFq9r2_"
      }
    },
    {
      "cell_type": "markdown",
      "source": [
        "\n",
        "\n",
        "1.   A layer of preventive actions that financial institutions and banks can incorporate is the analysis of financial patterns of the entity or individual. Tax filings, be it ITR or GST filings, are a good indicator of validity of an entity. Lack of GST or ITR data is cause for concern , as it can be an indicator of fraudulent intention or activities. In this case the next preventive measure banks can take is to screen the entities for any negative information.\n",
        "2.   Credential STealing crimes can be avoided by accumulation of customer biometric data. Biometrics are the telltale traits of a user that are difficult to duplicate like the cadence of their voice. They add an additional layer of safety from a fraudster pretending to be a legitimate user, aiding in banking fraud prevention.\n",
        "3.   Strengthening the infrastructure at the cheque handling Service Branches and bestowing special attention on the quality of equipment and personnel posted for CTS based clearing, so that it is not merely a mechanical process.\n",
        "4.   Ensuring that the beneficiary is KYC compliant so that the bank has recourse to him/her as long as he/she remains a customer of the bank.\n",
        "5.   Close monitoring of credits and debits in newly opened transaction accounts based on risk categorization.\n",
        "6.   Alerting the customer by a phone call and getting the confirmation from the payer/drawer.\n",
        "7.   Contacting base branch in case of non-home transactions.\n",
        "\n",
        "\n",
        "\n",
        "\n",
        "\n",
        "\n",
        "\n",
        "\n"
      ],
      "metadata": {
        "id": "Z1WSFKpb9axc"
      }
    },
    {
      "cell_type": "markdown",
      "source": [
        "# Determining if the Preventive measures are executing properly"
      ],
      "metadata": {
        "id": "IBhAiTXXIcLT"
      }
    },
    {
      "cell_type": "markdown",
      "source": [
        "The KPIs to measure the success of preventive measures for fraud detection can ne listed as follows:\n",
        "1. **Fraud rate**\n",
        "The Fraud rate is a calculation based on known fraud cases only.\n",
        "Only approved transactions that turned out to be fraudulent are counted. Whereas, declined transactions are not defined as fraudulent transactions and therefore not included in the fraud rate calculation.\n",
        "2. **Incoming Pressure**\n",
        "Incoming Pressure is the percentage of attempted transactions that turn out to be fraudulent.\n",
        "This KPI is closely connected to the Fraud Rate and is calculated retrospectively, by using chargebacks or other ways to tag transactions, manual review. \n",
        "3. **Final Approval Rate**\n",
        "The Final Approval Rate is calculated based on the status of transactions regardless of your fraud prevention solution’s decision. \n",
        "This metric does not help in understanding in effectiveness of fraud detection if viewed in isolation. For instance, if one looks at the Final Approval Rate in isolation, one will miss the relationship that it has with the Incoming Pressure.\n",
        "4. **Precision**\n",
        "Precision is the percentage of fraudulent transactions from the total number of declined transactions. \n",
        "5. **Recall**\n",
        "Also known as the Catch-Rate, Recall is the percentage of fraudulent transactions declined from the total number of transactions tagged as fraudulent. \n",
        "The more fraudulent transactions that are identified and blocked, the higher one's Precision will be. For the best performance, one would want one's Recall to be as high and precise as possible.\n",
        "6. **Decline rate**\n",
        "The Decline Rate is the percentage of transactions declined from the total number of transactions.\n",
        "Whilst this metric tells one how many transactions one have blocked, it can be misleading without context. For this fraud detection indicator to truly have merit, one must take into account an accurate reading of the Recall and Precision metrics, in combination. Once one has a correct record of both of these indicators, one will understand how many transactions are bad and how many were blocked.\n",
        "7. **Good User Approval Rate**\n",
        "The Good User Approval Rate is the percentage of good transactions that were actually legitimate from the total number of approved transactions.\n",
        "At the end of the day, maximizing legitimate transactions is one's main objective. That is why it is critical to track this specific metric independently.\n",
        "\n",
        "\n"
      ],
      "metadata": {
        "id": "y6N7uxZkImAH"
      }
    }
  ],
  "metadata": {
    "colab": {
      "collapsed_sections": [],
      "name": "Fraud Detection Model- INSAID",
      "provenance": [],
      "toc_visible": true
    },
    "kernelspec": {
      "display_name": "Python 3",
      "name": "python3"
    },
    "language_info": {
      "name": "python"
    }
  },
  "nbformat": 4,
  "nbformat_minor": 0
}